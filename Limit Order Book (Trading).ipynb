{
 "cells": [
  {
   "cell_type": "code",
   "execution_count": 141,
   "metadata": {},
   "outputs": [],
   "source": [
    "# Import packages\n",
    "\n",
    "import numpy as np\n",
    "import pandas as pd\n",
    "import matplotlib.pyplot as plt\n",
    "import seaborn as sb"
   ]
  },
  {
   "cell_type": "code",
   "execution_count": 142,
   "metadata": {},
   "outputs": [],
   "source": [
    "# Reading Orders\n",
    "\n",
    "def order_read(orde):\n",
    "    order_type = orde['OrderType']\n",
    "    order_id = orde['OrderID']\n",
    "    order_char = orde['OrderCharacteristic']\n",
    "    direction = orde['Direction']\n",
    "    quantity = orde['Quantity']\n",
    "    price = orde['Price']\n",
    "    date = orde['Date']\n",
    "    trader = orde['Trader']\n",
    "    \n",
    "    return {'OrderType':order_type,\\\n",
    "            'OrderID':order_id,\\\n",
    "            'OrderCharacteristic':order_char,\\\n",
    "            'Quantity':quantity,\\\n",
    "            'Price':price,\\\n",
    "            'Date':date,\\\n",
    "            }\n",
    "    "
   ]
  },
  {
   "cell_type": "code",
   "execution_count": 143,
   "metadata": {},
   "outputs": [],
   "source": [
    "# Buy and sell order queue\n",
    "\n",
    "buy_order1={1:6,3:5,5:8,10:9,4:2}\n",
    "sell_order1={11:6,12:3,14:8,16:9,19:2}\n",
    "dic_trade={10:2,11:3}\n",
    "\n",
    "# Retrieve\n",
    "\n",
    "# Retrieve order\n",
    "\n",
    "def first(order):\n",
    "    return list(sorted(order.items()))[0]\n",
    "\n",
    "def firstn(order,n):\n",
    "    return dict(list(sorted(order.items()))[:n])\n",
    "\n",
    "def last(order):\n",
    "    return list(sorted(order.items()))[-1]\n",
    "\n",
    "def lastn(order,n):\n",
    "    return dict(list(sorted(order.items()))[-n:])\n",
    "\n",
    "def buy(buy_order,sell_order):\n",
    "    buy_firstB = True\n",
    "    buy_firstA = True\n",
    "    try:\n",
    "        buy_b = last(buy_order)[0]\n",
    "    except:\n",
    "        buy_b = 0\n",
    "        buy_firstB = False\n",
    "    try:\n",
    "        buy_a = first(sell_order)[0]\n",
    "    except:\n",
    "        buy_a = 0\n",
    "        buy_firstA = False\n",
    "    return [buy_b,buy_a,buy_firstB,buy_firstA]\n",
    "\n",
    "def total(order):\n",
    "    return sum(order.values())"
   ]
  },
  {
   "cell_type": "code",
   "execution_count": 144,
   "metadata": {},
   "outputs": [
    {
     "data": {
      "text/plain": [
       "[(11, 6), {11: 6, 12: 3}]"
      ]
     },
     "execution_count": 144,
     "metadata": {},
     "output_type": "execute_result"
    }
   ],
   "source": [
    "[first(sell_order1),firstn(sell_order1,2)]"
   ]
  },
  {
   "cell_type": "code",
   "execution_count": 145,
   "metadata": {},
   "outputs": [
    {
     "data": {
      "text/plain": [
       "[(10, 9), {5: 8, 10: 9}]"
      ]
     },
     "execution_count": 145,
     "metadata": {},
     "output_type": "execute_result"
    }
   ],
   "source": [
    "[last(buy_order1),lastn(buy_order1,2)]"
   ]
  },
  {
   "cell_type": "code",
   "execution_count": 146,
   "metadata": {},
   "outputs": [
    {
     "data": {
      "text/plain": [
       "[10, 11, True, True]"
      ]
     },
     "execution_count": 146,
     "metadata": {},
     "output_type": "execute_result"
    }
   ],
   "source": [
    "buy(buy_order1,sell_order1)"
   ]
  },
  {
   "cell_type": "code",
   "execution_count": 147,
   "metadata": {},
   "outputs": [
    {
     "data": {
      "text/plain": [
       "[10, 0, True, False]"
      ]
     },
     "execution_count": 147,
     "metadata": {},
     "output_type": "execute_result"
    }
   ],
   "source": [
    "buy(buy_order1,{})"
   ]
  },
  {
   "cell_type": "code",
   "execution_count": 148,
   "metadata": {},
   "outputs": [
    {
     "data": {
      "text/plain": [
       "[0, 11, False, True]"
      ]
     },
     "execution_count": 148,
     "metadata": {},
     "output_type": "execute_result"
    }
   ],
   "source": [
    "buy({},sell_order1)"
   ]
  },
  {
   "cell_type": "code",
   "execution_count": 149,
   "metadata": {},
   "outputs": [
    {
     "data": {
      "text/plain": [
       "30"
      ]
     },
     "execution_count": 149,
     "metadata": {},
     "output_type": "execute_result"
    }
   ],
   "source": [
    "total(buy_order1)\n"
   ]
  },
  {
   "cell_type": "code",
   "execution_count": 240,
   "metadata": {},
   "outputs": [
    {
     "data": {
      "text/plain": [
       "28"
      ]
     },
     "execution_count": 240,
     "metadata": {},
     "output_type": "execute_result"
    }
   ],
   "source": [
    "total(sell_order1)"
   ]
  },
  {
   "cell_type": "code",
   "execution_count": 256,
   "metadata": {},
   "outputs": [],
   "source": [
    "def nonzero_order(order):\n",
    "    return dict(((k,v) for (k,v) in order.items() if v!=0))"
   ]
  },
  {
   "cell_type": "code",
   "execution_count": 257,
   "metadata": {},
   "outputs": [],
   "source": [
    "# Dataframes\n",
    "\n",
    "def order_dataframe(order,orderN,rev = False):\n",
    "    # rev is a variable that should be False as a default in the Buy Order, it can be used as True for the cumulative queue\n",
    "    if orderN =='T':\n",
    "        df = pd.DataFrame.from_dict(order,orient = 'index')\n",
    "        df.index.name = ['Price']\n",
    "        try:\n",
    "            df.columns = ['Qty']\n",
    "        except:\n",
    "            pass\n",
    "        return df\n",
    "    else:\n",
    "        if orderN == 'B':\n",
    "            order_col = 'Qty_Bid'\n",
    "        else:\n",
    "            order_col = 'Qty_Ask'\n",
    "        df = pd.DataFrame(sorted(order.items()),\n",
    "                columns = ['Price',order_col]).set_index('Price')\n",
    "        df.sort_index(ascending = not(rev),inplace = True)\n",
    "        return df\n",
    "    \n",
    "def buy_sell_order_dataframe(buy_order,sell_order):\n",
    "    df_buy_order = order_dataframe(buy_order,'B')\n",
    "    df_sell_order = order_dataframe(sell_order,'S')\n",
    "    df_order = pd.concat([df_buy_order, df_sell_order])\n",
    "    return df_order\n",
    "    \n",
    "def buy_sell_order_dataframe1(buy_order,sell_order):\n",
    "    df_buy_order = order_dataframe(buy_order,'B')\n",
    "    df_sell_order = order_dataframe(sell_order,'S')\n",
    "    df_order = pd.concat([df_buy_order, df_sell_order],axis=1)\n",
    "    return df_order\n",
    "\n",
    "def buy_sell_orderN_dataframe(buy_order,sell_order,n):\n",
    "    df_buy_order = order_dataframe(lastn(buy_order,n),'B')\n",
    "    df_sell_order = order_dataframe(firstn(sell_order,n),'S')\n",
    "    df_order=pd.concat([df_buy_order,df_sell_order])\n",
    "    return df_order\n",
    "\n",
    "def buy_sell_orderN_dataframe1(buy_order,sell_order,n):\n",
    "    df_buy_order = order_dataframe(lastn(buy_order,n),'B')\n",
    "    df_sell_order = order_dataframe(firstn(sell_order,n),'S')\n",
    "    df_order=pd.concat([df_buy_order,df_sell_order],axis=1)\n",
    "    return df_order"
   ]
  },
  {
   "cell_type": "code",
   "execution_count": 258,
   "metadata": {},
   "outputs": [
    {
     "data": {
      "text/html": [
       "<div>\n",
       "<style scoped>\n",
       "    .dataframe tbody tr th:only-of-type {\n",
       "        vertical-align: middle;\n",
       "    }\n",
       "\n",
       "    .dataframe tbody tr th {\n",
       "        vertical-align: top;\n",
       "    }\n",
       "\n",
       "    .dataframe thead th {\n",
       "        text-align: right;\n",
       "    }\n",
       "</style>\n",
       "<table border=\"1\" class=\"dataframe\">\n",
       "  <thead>\n",
       "    <tr style=\"text-align: right;\">\n",
       "      <th></th>\n",
       "      <th>Qty_Bid</th>\n",
       "    </tr>\n",
       "    <tr>\n",
       "      <th>Price</th>\n",
       "      <th></th>\n",
       "    </tr>\n",
       "  </thead>\n",
       "  <tbody>\n",
       "    <tr>\n",
       "      <th>10</th>\n",
       "      <td>9</td>\n",
       "    </tr>\n",
       "    <tr>\n",
       "      <th>5</th>\n",
       "      <td>8</td>\n",
       "    </tr>\n",
       "    <tr>\n",
       "      <th>4</th>\n",
       "      <td>2</td>\n",
       "    </tr>\n",
       "    <tr>\n",
       "      <th>3</th>\n",
       "      <td>5</td>\n",
       "    </tr>\n",
       "    <tr>\n",
       "      <th>1</th>\n",
       "      <td>6</td>\n",
       "    </tr>\n",
       "  </tbody>\n",
       "</table>\n",
       "</div>"
      ],
      "text/plain": [
       "       Qty_Bid\n",
       "Price         \n",
       "10           9\n",
       "5            8\n",
       "4            2\n",
       "3            5\n",
       "1            6"
      ]
     },
     "execution_count": 258,
     "metadata": {},
     "output_type": "execute_result"
    }
   ],
   "source": [
    "order_dataframe(buy_order1,'B',True)"
   ]
  },
  {
   "cell_type": "code",
   "execution_count": 259,
   "metadata": {},
   "outputs": [
    {
     "data": {
      "text/html": [
       "<div>\n",
       "<style scoped>\n",
       "    .dataframe tbody tr th:only-of-type {\n",
       "        vertical-align: middle;\n",
       "    }\n",
       "\n",
       "    .dataframe tbody tr th {\n",
       "        vertical-align: top;\n",
       "    }\n",
       "\n",
       "    .dataframe thead th {\n",
       "        text-align: right;\n",
       "    }\n",
       "</style>\n",
       "<table border=\"1\" class=\"dataframe\">\n",
       "  <thead>\n",
       "    <tr style=\"text-align: right;\">\n",
       "      <th></th>\n",
       "      <th>Qty_Ask</th>\n",
       "    </tr>\n",
       "    <tr>\n",
       "      <th>Price</th>\n",
       "      <th></th>\n",
       "    </tr>\n",
       "  </thead>\n",
       "  <tbody>\n",
       "    <tr>\n",
       "      <th>11</th>\n",
       "      <td>6</td>\n",
       "    </tr>\n",
       "    <tr>\n",
       "      <th>12</th>\n",
       "      <td>3</td>\n",
       "    </tr>\n",
       "    <tr>\n",
       "      <th>14</th>\n",
       "      <td>8</td>\n",
       "    </tr>\n",
       "    <tr>\n",
       "      <th>16</th>\n",
       "      <td>9</td>\n",
       "    </tr>\n",
       "    <tr>\n",
       "      <th>19</th>\n",
       "      <td>2</td>\n",
       "    </tr>\n",
       "  </tbody>\n",
       "</table>\n",
       "</div>"
      ],
      "text/plain": [
       "       Qty_Ask\n",
       "Price         \n",
       "11           6\n",
       "12           3\n",
       "14           8\n",
       "16           9\n",
       "19           2"
      ]
     },
     "execution_count": 259,
     "metadata": {},
     "output_type": "execute_result"
    }
   ],
   "source": [
    "order_dataframe(sell_order1,'S')"
   ]
  },
  {
   "cell_type": "code",
   "execution_count": 260,
   "metadata": {},
   "outputs": [
    {
     "name": "stderr",
     "output_type": "stream",
     "text": [
      "C:\\Users\\Shikha\\Anaconda3\\lib\\site-packages\\ipykernel_launcher.py:26: FutureWarning: Sorting because non-concatenation axis is not aligned. A future version\n",
      "of pandas will change to not sort by default.\n",
      "\n",
      "To accept the future behavior, pass 'sort=False'.\n",
      "\n",
      "To retain the current behavior and silence the warning, pass 'sort=True'.\n",
      "\n"
     ]
    },
    {
     "data": {
      "text/html": [
       "<div>\n",
       "<style scoped>\n",
       "    .dataframe tbody tr th:only-of-type {\n",
       "        vertical-align: middle;\n",
       "    }\n",
       "\n",
       "    .dataframe tbody tr th {\n",
       "        vertical-align: top;\n",
       "    }\n",
       "\n",
       "    .dataframe thead th {\n",
       "        text-align: right;\n",
       "    }\n",
       "</style>\n",
       "<table border=\"1\" class=\"dataframe\">\n",
       "  <thead>\n",
       "    <tr style=\"text-align: right;\">\n",
       "      <th></th>\n",
       "      <th>Qty_Ask</th>\n",
       "      <th>Qty_Bid</th>\n",
       "    </tr>\n",
       "    <tr>\n",
       "      <th>Price</th>\n",
       "      <th></th>\n",
       "      <th></th>\n",
       "    </tr>\n",
       "  </thead>\n",
       "  <tbody>\n",
       "    <tr>\n",
       "      <th>1</th>\n",
       "      <td>NaN</td>\n",
       "      <td>6.0</td>\n",
       "    </tr>\n",
       "    <tr>\n",
       "      <th>3</th>\n",
       "      <td>NaN</td>\n",
       "      <td>5.0</td>\n",
       "    </tr>\n",
       "    <tr>\n",
       "      <th>4</th>\n",
       "      <td>NaN</td>\n",
       "      <td>2.0</td>\n",
       "    </tr>\n",
       "    <tr>\n",
       "      <th>5</th>\n",
       "      <td>NaN</td>\n",
       "      <td>8.0</td>\n",
       "    </tr>\n",
       "    <tr>\n",
       "      <th>10</th>\n",
       "      <td>NaN</td>\n",
       "      <td>9.0</td>\n",
       "    </tr>\n",
       "    <tr>\n",
       "      <th>11</th>\n",
       "      <td>6.0</td>\n",
       "      <td>NaN</td>\n",
       "    </tr>\n",
       "    <tr>\n",
       "      <th>12</th>\n",
       "      <td>3.0</td>\n",
       "      <td>NaN</td>\n",
       "    </tr>\n",
       "    <tr>\n",
       "      <th>14</th>\n",
       "      <td>8.0</td>\n",
       "      <td>NaN</td>\n",
       "    </tr>\n",
       "    <tr>\n",
       "      <th>16</th>\n",
       "      <td>9.0</td>\n",
       "      <td>NaN</td>\n",
       "    </tr>\n",
       "    <tr>\n",
       "      <th>19</th>\n",
       "      <td>2.0</td>\n",
       "      <td>NaN</td>\n",
       "    </tr>\n",
       "  </tbody>\n",
       "</table>\n",
       "</div>"
      ],
      "text/plain": [
       "       Qty_Ask  Qty_Bid\n",
       "Price                  \n",
       "1          NaN      6.0\n",
       "3          NaN      5.0\n",
       "4          NaN      2.0\n",
       "5          NaN      8.0\n",
       "10         NaN      9.0\n",
       "11         6.0      NaN\n",
       "12         3.0      NaN\n",
       "14         8.0      NaN\n",
       "16         9.0      NaN\n",
       "19         2.0      NaN"
      ]
     },
     "execution_count": 260,
     "metadata": {},
     "output_type": "execute_result"
    }
   ],
   "source": [
    "buy_sell_order_dataframe(buy_order1,sell_order1)\n",
    "\n"
   ]
  },
  {
   "cell_type": "code",
   "execution_count": 261,
   "metadata": {},
   "outputs": [
    {
     "data": {
      "text/html": [
       "<div>\n",
       "<style scoped>\n",
       "    .dataframe tbody tr th:only-of-type {\n",
       "        vertical-align: middle;\n",
       "    }\n",
       "\n",
       "    .dataframe tbody tr th {\n",
       "        vertical-align: top;\n",
       "    }\n",
       "\n",
       "    .dataframe thead th {\n",
       "        text-align: right;\n",
       "    }\n",
       "</style>\n",
       "<table border=\"1\" class=\"dataframe\">\n",
       "  <thead>\n",
       "    <tr style=\"text-align: right;\">\n",
       "      <th></th>\n",
       "      <th>Qty_Bid</th>\n",
       "      <th>Qty_Ask</th>\n",
       "    </tr>\n",
       "    <tr>\n",
       "      <th>Price</th>\n",
       "      <th></th>\n",
       "      <th></th>\n",
       "    </tr>\n",
       "  </thead>\n",
       "  <tbody>\n",
       "    <tr>\n",
       "      <th>1</th>\n",
       "      <td>6.0</td>\n",
       "      <td>NaN</td>\n",
       "    </tr>\n",
       "    <tr>\n",
       "      <th>3</th>\n",
       "      <td>5.0</td>\n",
       "      <td>NaN</td>\n",
       "    </tr>\n",
       "    <tr>\n",
       "      <th>4</th>\n",
       "      <td>2.0</td>\n",
       "      <td>NaN</td>\n",
       "    </tr>\n",
       "    <tr>\n",
       "      <th>5</th>\n",
       "      <td>8.0</td>\n",
       "      <td>NaN</td>\n",
       "    </tr>\n",
       "    <tr>\n",
       "      <th>10</th>\n",
       "      <td>9.0</td>\n",
       "      <td>NaN</td>\n",
       "    </tr>\n",
       "    <tr>\n",
       "      <th>11</th>\n",
       "      <td>NaN</td>\n",
       "      <td>6.0</td>\n",
       "    </tr>\n",
       "    <tr>\n",
       "      <th>12</th>\n",
       "      <td>NaN</td>\n",
       "      <td>3.0</td>\n",
       "    </tr>\n",
       "    <tr>\n",
       "      <th>14</th>\n",
       "      <td>NaN</td>\n",
       "      <td>8.0</td>\n",
       "    </tr>\n",
       "    <tr>\n",
       "      <th>16</th>\n",
       "      <td>NaN</td>\n",
       "      <td>9.0</td>\n",
       "    </tr>\n",
       "    <tr>\n",
       "      <th>19</th>\n",
       "      <td>NaN</td>\n",
       "      <td>2.0</td>\n",
       "    </tr>\n",
       "  </tbody>\n",
       "</table>\n",
       "</div>"
      ],
      "text/plain": [
       "       Qty_Bid  Qty_Ask\n",
       "Price                  \n",
       "1          6.0      NaN\n",
       "3          5.0      NaN\n",
       "4          2.0      NaN\n",
       "5          8.0      NaN\n",
       "10         9.0      NaN\n",
       "11         NaN      6.0\n",
       "12         NaN      3.0\n",
       "14         NaN      8.0\n",
       "16         NaN      9.0\n",
       "19         NaN      2.0"
      ]
     },
     "execution_count": 261,
     "metadata": {},
     "output_type": "execute_result"
    }
   ],
   "source": [
    "buy_sell_order_dataframe1(buy_order1,sell_order1)"
   ]
  },
  {
   "cell_type": "code",
   "execution_count": 262,
   "metadata": {},
   "outputs": [
    {
     "name": "stderr",
     "output_type": "stream",
     "text": [
      "C:\\Users\\Shikha\\Anaconda3\\lib\\site-packages\\ipykernel_launcher.py:38: FutureWarning: Sorting because non-concatenation axis is not aligned. A future version\n",
      "of pandas will change to not sort by default.\n",
      "\n",
      "To accept the future behavior, pass 'sort=False'.\n",
      "\n",
      "To retain the current behavior and silence the warning, pass 'sort=True'.\n",
      "\n"
     ]
    },
    {
     "data": {
      "text/html": [
       "<div>\n",
       "<style scoped>\n",
       "    .dataframe tbody tr th:only-of-type {\n",
       "        vertical-align: middle;\n",
       "    }\n",
       "\n",
       "    .dataframe tbody tr th {\n",
       "        vertical-align: top;\n",
       "    }\n",
       "\n",
       "    .dataframe thead th {\n",
       "        text-align: right;\n",
       "    }\n",
       "</style>\n",
       "<table border=\"1\" class=\"dataframe\">\n",
       "  <thead>\n",
       "    <tr style=\"text-align: right;\">\n",
       "      <th></th>\n",
       "      <th>Qty_Ask</th>\n",
       "      <th>Qty_Bid</th>\n",
       "    </tr>\n",
       "    <tr>\n",
       "      <th>Price</th>\n",
       "      <th></th>\n",
       "      <th></th>\n",
       "    </tr>\n",
       "  </thead>\n",
       "  <tbody>\n",
       "    <tr>\n",
       "      <th>5</th>\n",
       "      <td>NaN</td>\n",
       "      <td>8.0</td>\n",
       "    </tr>\n",
       "    <tr>\n",
       "      <th>10</th>\n",
       "      <td>NaN</td>\n",
       "      <td>9.0</td>\n",
       "    </tr>\n",
       "    <tr>\n",
       "      <th>11</th>\n",
       "      <td>6.0</td>\n",
       "      <td>NaN</td>\n",
       "    </tr>\n",
       "    <tr>\n",
       "      <th>12</th>\n",
       "      <td>3.0</td>\n",
       "      <td>NaN</td>\n",
       "    </tr>\n",
       "  </tbody>\n",
       "</table>\n",
       "</div>"
      ],
      "text/plain": [
       "       Qty_Ask  Qty_Bid\n",
       "Price                  \n",
       "5          NaN      8.0\n",
       "10         NaN      9.0\n",
       "11         6.0      NaN\n",
       "12         3.0      NaN"
      ]
     },
     "execution_count": 262,
     "metadata": {},
     "output_type": "execute_result"
    }
   ],
   "source": [
    "buy_sell_orderN_dataframe(buy_order1,sell_order1, 2)"
   ]
  },
  {
   "cell_type": "code",
   "execution_count": 263,
   "metadata": {},
   "outputs": [
    {
     "data": {
      "text/html": [
       "<div>\n",
       "<style scoped>\n",
       "    .dataframe tbody tr th:only-of-type {\n",
       "        vertical-align: middle;\n",
       "    }\n",
       "\n",
       "    .dataframe tbody tr th {\n",
       "        vertical-align: top;\n",
       "    }\n",
       "\n",
       "    .dataframe thead th {\n",
       "        text-align: right;\n",
       "    }\n",
       "</style>\n",
       "<table border=\"1\" class=\"dataframe\">\n",
       "  <thead>\n",
       "    <tr style=\"text-align: right;\">\n",
       "      <th></th>\n",
       "      <th>Qty_Bid</th>\n",
       "      <th>Qty_Ask</th>\n",
       "    </tr>\n",
       "    <tr>\n",
       "      <th>Price</th>\n",
       "      <th></th>\n",
       "      <th></th>\n",
       "    </tr>\n",
       "  </thead>\n",
       "  <tbody>\n",
       "    <tr>\n",
       "      <th>5</th>\n",
       "      <td>8.0</td>\n",
       "      <td>NaN</td>\n",
       "    </tr>\n",
       "    <tr>\n",
       "      <th>10</th>\n",
       "      <td>9.0</td>\n",
       "      <td>NaN</td>\n",
       "    </tr>\n",
       "    <tr>\n",
       "      <th>11</th>\n",
       "      <td>NaN</td>\n",
       "      <td>6.0</td>\n",
       "    </tr>\n",
       "    <tr>\n",
       "      <th>12</th>\n",
       "      <td>NaN</td>\n",
       "      <td>3.0</td>\n",
       "    </tr>\n",
       "  </tbody>\n",
       "</table>\n",
       "</div>"
      ],
      "text/plain": [
       "       Qty_Bid  Qty_Ask\n",
       "Price                  \n",
       "5          8.0      NaN\n",
       "10         9.0      NaN\n",
       "11         NaN      6.0\n",
       "12         NaN      3.0"
      ]
     },
     "execution_count": 263,
     "metadata": {},
     "output_type": "execute_result"
    }
   ],
   "source": [
    "buy_sell_orderN_dataframe1(buy_order1,sell_order1, 2)"
   ]
  },
  {
   "cell_type": "code",
   "execution_count": 264,
   "metadata": {},
   "outputs": [
    {
     "data": {
      "text/html": [
       "<div>\n",
       "<style scoped>\n",
       "    .dataframe tbody tr th:only-of-type {\n",
       "        vertical-align: middle;\n",
       "    }\n",
       "\n",
       "    .dataframe tbody tr th {\n",
       "        vertical-align: top;\n",
       "    }\n",
       "\n",
       "    .dataframe thead th {\n",
       "        text-align: right;\n",
       "    }\n",
       "</style>\n",
       "<table border=\"1\" class=\"dataframe\">\n",
       "  <thead>\n",
       "    <tr style=\"text-align: right;\">\n",
       "      <th></th>\n",
       "      <th>Qty_Ask</th>\n",
       "    </tr>\n",
       "    <tr>\n",
       "      <th>Price</th>\n",
       "      <th></th>\n",
       "    </tr>\n",
       "  </thead>\n",
       "  <tbody>\n",
       "  </tbody>\n",
       "</table>\n",
       "</div>"
      ],
      "text/plain": [
       "Empty DataFrame\n",
       "Columns: [Qty_Ask]\n",
       "Index: []"
      ]
     },
     "execution_count": 264,
     "metadata": {},
     "output_type": "execute_result"
    }
   ],
   "source": [
    "order_dataframe({},'S')"
   ]
  },
  {
   "cell_type": "code",
   "execution_count": 265,
   "metadata": {},
   "outputs": [
    {
     "data": {
      "text/html": [
       "<div>\n",
       "<style scoped>\n",
       "    .dataframe tbody tr th:only-of-type {\n",
       "        vertical-align: middle;\n",
       "    }\n",
       "\n",
       "    .dataframe tbody tr th {\n",
       "        vertical-align: top;\n",
       "    }\n",
       "\n",
       "    .dataframe thead th {\n",
       "        text-align: right;\n",
       "    }\n",
       "</style>\n",
       "<table border=\"1\" class=\"dataframe\">\n",
       "  <thead>\n",
       "    <tr style=\"text-align: right;\">\n",
       "      <th></th>\n",
       "      <th>Qty</th>\n",
       "    </tr>\n",
       "    <tr>\n",
       "      <th>[Price]</th>\n",
       "      <th></th>\n",
       "    </tr>\n",
       "  </thead>\n",
       "  <tbody>\n",
       "    <tr>\n",
       "      <th>10</th>\n",
       "      <td>2</td>\n",
       "    </tr>\n",
       "    <tr>\n",
       "      <th>11</th>\n",
       "      <td>3</td>\n",
       "    </tr>\n",
       "  </tbody>\n",
       "</table>\n",
       "</div>"
      ],
      "text/plain": [
       "         Qty\n",
       "[Price]     \n",
       "10         2\n",
       "11         3"
      ]
     },
     "execution_count": 265,
     "metadata": {},
     "output_type": "execute_result"
    }
   ],
   "source": [
    "order_dataframe(dic_trade,'T')"
   ]
  },
  {
   "cell_type": "code",
   "execution_count": 266,
   "metadata": {},
   "outputs": [
    {
     "data": {
      "text/html": [
       "<div>\n",
       "<style scoped>\n",
       "    .dataframe tbody tr th:only-of-type {\n",
       "        vertical-align: middle;\n",
       "    }\n",
       "\n",
       "    .dataframe tbody tr th {\n",
       "        vertical-align: top;\n",
       "    }\n",
       "\n",
       "    .dataframe thead th {\n",
       "        text-align: right;\n",
       "    }\n",
       "</style>\n",
       "<table border=\"1\" class=\"dataframe\">\n",
       "  <thead>\n",
       "    <tr style=\"text-align: right;\">\n",
       "      <th></th>\n",
       "    </tr>\n",
       "    <tr>\n",
       "      <th>[Price]</th>\n",
       "    </tr>\n",
       "  </thead>\n",
       "  <tbody>\n",
       "  </tbody>\n",
       "</table>\n",
       "</div>"
      ],
      "text/plain": [
       "Empty DataFrame\n",
       "Columns: []\n",
       "Index: []"
      ]
     },
     "execution_count": 266,
     "metadata": {},
     "output_type": "execute_result"
    }
   ],
   "source": [
    "order_dataframe({},'T')"
   ]
  },
  {
   "cell_type": "code",
   "execution_count": 267,
   "metadata": {},
   "outputs": [],
   "source": [
    "def order_dataframe_Ni(order,orderN,discount,ts):\n",
    "    df_order=order_dataframe(order,orderN)\n",
    "    df_order.reset_index(inplace=True)\n",
    "    df_order['Discount']=discount\n",
    "    df_order['Ts']=ts\n",
    "    return df_order\n",
    "\n",
    "def buy_sell_order_dataframe_Ni(buy_order,sell_order,discount,ts):\n",
    "    df_order=buy_sell_order_dataframe(buy_order,sell_order)\n",
    "    df_order.reset_index(inplace=True)\n",
    "    df_order['Discount']=discount\n",
    "    df_order['Ts']=ts\n",
    "    return df_order\n",
    "\n",
    "def buy_sell_orderN_dataframe_Ni(buy_order,sell_order,n,discount,ts):\n",
    "    df_order=buy_sell_orderN_dataframe(buy_order,sell_order,n)\n",
    "    df_order.reset_index(inplace=True)\n",
    "    df_order['Discount']=discount\n",
    "    df_order['Ts']=ts\n",
    "    return df_order"
   ]
  },
  {
   "cell_type": "code",
   "execution_count": 268,
   "metadata": {},
   "outputs": [
    {
     "data": {
      "text/html": [
       "<div>\n",
       "<style scoped>\n",
       "    .dataframe tbody tr th:only-of-type {\n",
       "        vertical-align: middle;\n",
       "    }\n",
       "\n",
       "    .dataframe tbody tr th {\n",
       "        vertical-align: top;\n",
       "    }\n",
       "\n",
       "    .dataframe thead th {\n",
       "        text-align: right;\n",
       "    }\n",
       "</style>\n",
       "<table border=\"1\" class=\"dataframe\">\n",
       "  <thead>\n",
       "    <tr style=\"text-align: right;\">\n",
       "      <th></th>\n",
       "      <th>Price</th>\n",
       "      <th>Qty_Bid</th>\n",
       "      <th>Discount</th>\n",
       "      <th>Ts</th>\n",
       "    </tr>\n",
       "  </thead>\n",
       "  <tbody>\n",
       "    <tr>\n",
       "      <th>0</th>\n",
       "      <td>1</td>\n",
       "      <td>6</td>\n",
       "      <td>1</td>\n",
       "      <td>2</td>\n",
       "    </tr>\n",
       "    <tr>\n",
       "      <th>1</th>\n",
       "      <td>3</td>\n",
       "      <td>5</td>\n",
       "      <td>1</td>\n",
       "      <td>2</td>\n",
       "    </tr>\n",
       "    <tr>\n",
       "      <th>2</th>\n",
       "      <td>4</td>\n",
       "      <td>2</td>\n",
       "      <td>1</td>\n",
       "      <td>2</td>\n",
       "    </tr>\n",
       "    <tr>\n",
       "      <th>3</th>\n",
       "      <td>5</td>\n",
       "      <td>8</td>\n",
       "      <td>1</td>\n",
       "      <td>2</td>\n",
       "    </tr>\n",
       "    <tr>\n",
       "      <th>4</th>\n",
       "      <td>10</td>\n",
       "      <td>9</td>\n",
       "      <td>1</td>\n",
       "      <td>2</td>\n",
       "    </tr>\n",
       "  </tbody>\n",
       "</table>\n",
       "</div>"
      ],
      "text/plain": [
       "   Price  Qty_Bid  Discount  Ts\n",
       "0      1        6         1   2\n",
       "1      3        5         1   2\n",
       "2      4        2         1   2\n",
       "3      5        8         1   2\n",
       "4     10        9         1   2"
      ]
     },
     "execution_count": 268,
     "metadata": {},
     "output_type": "execute_result"
    }
   ],
   "source": [
    "order_dataframe_Ni(buy_order1,'B',1,2)"
   ]
  },
  {
   "cell_type": "code",
   "execution_count": 269,
   "metadata": {},
   "outputs": [
    {
     "data": {
      "text/html": [
       "<div>\n",
       "<style scoped>\n",
       "    .dataframe tbody tr th:only-of-type {\n",
       "        vertical-align: middle;\n",
       "    }\n",
       "\n",
       "    .dataframe tbody tr th {\n",
       "        vertical-align: top;\n",
       "    }\n",
       "\n",
       "    .dataframe thead th {\n",
       "        text-align: right;\n",
       "    }\n",
       "</style>\n",
       "<table border=\"1\" class=\"dataframe\">\n",
       "  <thead>\n",
       "    <tr style=\"text-align: right;\">\n",
       "      <th></th>\n",
       "      <th>Price</th>\n",
       "      <th>Qty_Ask</th>\n",
       "      <th>Discount</th>\n",
       "      <th>Ts</th>\n",
       "    </tr>\n",
       "  </thead>\n",
       "  <tbody>\n",
       "    <tr>\n",
       "      <th>0</th>\n",
       "      <td>11</td>\n",
       "      <td>6</td>\n",
       "      <td>1</td>\n",
       "      <td>2</td>\n",
       "    </tr>\n",
       "    <tr>\n",
       "      <th>1</th>\n",
       "      <td>12</td>\n",
       "      <td>3</td>\n",
       "      <td>1</td>\n",
       "      <td>2</td>\n",
       "    </tr>\n",
       "    <tr>\n",
       "      <th>2</th>\n",
       "      <td>14</td>\n",
       "      <td>8</td>\n",
       "      <td>1</td>\n",
       "      <td>2</td>\n",
       "    </tr>\n",
       "    <tr>\n",
       "      <th>3</th>\n",
       "      <td>16</td>\n",
       "      <td>9</td>\n",
       "      <td>1</td>\n",
       "      <td>2</td>\n",
       "    </tr>\n",
       "    <tr>\n",
       "      <th>4</th>\n",
       "      <td>19</td>\n",
       "      <td>2</td>\n",
       "      <td>1</td>\n",
       "      <td>2</td>\n",
       "    </tr>\n",
       "  </tbody>\n",
       "</table>\n",
       "</div>"
      ],
      "text/plain": [
       "   Price  Qty_Ask  Discount  Ts\n",
       "0     11        6         1   2\n",
       "1     12        3         1   2\n",
       "2     14        8         1   2\n",
       "3     16        9         1   2\n",
       "4     19        2         1   2"
      ]
     },
     "execution_count": 269,
     "metadata": {},
     "output_type": "execute_result"
    }
   ],
   "source": [
    "order_dataframe_Ni(sell_order1,'S',1,2)"
   ]
  },
  {
   "cell_type": "code",
   "execution_count": 270,
   "metadata": {},
   "outputs": [
    {
     "name": "stderr",
     "output_type": "stream",
     "text": [
      "C:\\Users\\Shikha\\Anaconda3\\lib\\site-packages\\ipykernel_launcher.py:26: FutureWarning: Sorting because non-concatenation axis is not aligned. A future version\n",
      "of pandas will change to not sort by default.\n",
      "\n",
      "To accept the future behavior, pass 'sort=False'.\n",
      "\n",
      "To retain the current behavior and silence the warning, pass 'sort=True'.\n",
      "\n"
     ]
    },
    {
     "data": {
      "text/html": [
       "<div>\n",
       "<style scoped>\n",
       "    .dataframe tbody tr th:only-of-type {\n",
       "        vertical-align: middle;\n",
       "    }\n",
       "\n",
       "    .dataframe tbody tr th {\n",
       "        vertical-align: top;\n",
       "    }\n",
       "\n",
       "    .dataframe thead th {\n",
       "        text-align: right;\n",
       "    }\n",
       "</style>\n",
       "<table border=\"1\" class=\"dataframe\">\n",
       "  <thead>\n",
       "    <tr style=\"text-align: right;\">\n",
       "      <th></th>\n",
       "      <th>Price</th>\n",
       "      <th>Qty_Ask</th>\n",
       "      <th>Qty_Bid</th>\n",
       "      <th>Discount</th>\n",
       "      <th>Ts</th>\n",
       "    </tr>\n",
       "  </thead>\n",
       "  <tbody>\n",
       "    <tr>\n",
       "      <th>0</th>\n",
       "      <td>1</td>\n",
       "      <td>NaN</td>\n",
       "      <td>6.0</td>\n",
       "      <td>1</td>\n",
       "      <td>2</td>\n",
       "    </tr>\n",
       "    <tr>\n",
       "      <th>1</th>\n",
       "      <td>3</td>\n",
       "      <td>NaN</td>\n",
       "      <td>5.0</td>\n",
       "      <td>1</td>\n",
       "      <td>2</td>\n",
       "    </tr>\n",
       "    <tr>\n",
       "      <th>2</th>\n",
       "      <td>4</td>\n",
       "      <td>NaN</td>\n",
       "      <td>2.0</td>\n",
       "      <td>1</td>\n",
       "      <td>2</td>\n",
       "    </tr>\n",
       "    <tr>\n",
       "      <th>3</th>\n",
       "      <td>5</td>\n",
       "      <td>NaN</td>\n",
       "      <td>8.0</td>\n",
       "      <td>1</td>\n",
       "      <td>2</td>\n",
       "    </tr>\n",
       "    <tr>\n",
       "      <th>4</th>\n",
       "      <td>10</td>\n",
       "      <td>NaN</td>\n",
       "      <td>9.0</td>\n",
       "      <td>1</td>\n",
       "      <td>2</td>\n",
       "    </tr>\n",
       "    <tr>\n",
       "      <th>5</th>\n",
       "      <td>11</td>\n",
       "      <td>6.0</td>\n",
       "      <td>NaN</td>\n",
       "      <td>1</td>\n",
       "      <td>2</td>\n",
       "    </tr>\n",
       "    <tr>\n",
       "      <th>6</th>\n",
       "      <td>12</td>\n",
       "      <td>3.0</td>\n",
       "      <td>NaN</td>\n",
       "      <td>1</td>\n",
       "      <td>2</td>\n",
       "    </tr>\n",
       "    <tr>\n",
       "      <th>7</th>\n",
       "      <td>14</td>\n",
       "      <td>8.0</td>\n",
       "      <td>NaN</td>\n",
       "      <td>1</td>\n",
       "      <td>2</td>\n",
       "    </tr>\n",
       "    <tr>\n",
       "      <th>8</th>\n",
       "      <td>16</td>\n",
       "      <td>9.0</td>\n",
       "      <td>NaN</td>\n",
       "      <td>1</td>\n",
       "      <td>2</td>\n",
       "    </tr>\n",
       "    <tr>\n",
       "      <th>9</th>\n",
       "      <td>19</td>\n",
       "      <td>2.0</td>\n",
       "      <td>NaN</td>\n",
       "      <td>1</td>\n",
       "      <td>2</td>\n",
       "    </tr>\n",
       "  </tbody>\n",
       "</table>\n",
       "</div>"
      ],
      "text/plain": [
       "   Price  Qty_Ask  Qty_Bid  Discount  Ts\n",
       "0      1      NaN      6.0         1   2\n",
       "1      3      NaN      5.0         1   2\n",
       "2      4      NaN      2.0         1   2\n",
       "3      5      NaN      8.0         1   2\n",
       "4     10      NaN      9.0         1   2\n",
       "5     11      6.0      NaN         1   2\n",
       "6     12      3.0      NaN         1   2\n",
       "7     14      8.0      NaN         1   2\n",
       "8     16      9.0      NaN         1   2\n",
       "9     19      2.0      NaN         1   2"
      ]
     },
     "execution_count": 270,
     "metadata": {},
     "output_type": "execute_result"
    }
   ],
   "source": [
    "buy_sell_order_dataframe_Ni(buy_order1,sell_order1,1,2)"
   ]
  },
  {
   "cell_type": "code",
   "execution_count": 271,
   "metadata": {},
   "outputs": [
    {
     "name": "stderr",
     "output_type": "stream",
     "text": [
      "C:\\Users\\Shikha\\Anaconda3\\lib\\site-packages\\ipykernel_launcher.py:38: FutureWarning: Sorting because non-concatenation axis is not aligned. A future version\n",
      "of pandas will change to not sort by default.\n",
      "\n",
      "To accept the future behavior, pass 'sort=False'.\n",
      "\n",
      "To retain the current behavior and silence the warning, pass 'sort=True'.\n",
      "\n"
     ]
    },
    {
     "data": {
      "text/html": [
       "<div>\n",
       "<style scoped>\n",
       "    .dataframe tbody tr th:only-of-type {\n",
       "        vertical-align: middle;\n",
       "    }\n",
       "\n",
       "    .dataframe tbody tr th {\n",
       "        vertical-align: top;\n",
       "    }\n",
       "\n",
       "    .dataframe thead th {\n",
       "        text-align: right;\n",
       "    }\n",
       "</style>\n",
       "<table border=\"1\" class=\"dataframe\">\n",
       "  <thead>\n",
       "    <tr style=\"text-align: right;\">\n",
       "      <th></th>\n",
       "      <th>Price</th>\n",
       "      <th>Qty_Ask</th>\n",
       "      <th>Qty_Bid</th>\n",
       "      <th>Discount</th>\n",
       "      <th>Ts</th>\n",
       "    </tr>\n",
       "  </thead>\n",
       "  <tbody>\n",
       "    <tr>\n",
       "      <th>0</th>\n",
       "      <td>5</td>\n",
       "      <td>NaN</td>\n",
       "      <td>8.0</td>\n",
       "      <td>10</td>\n",
       "      <td>20</td>\n",
       "    </tr>\n",
       "    <tr>\n",
       "      <th>1</th>\n",
       "      <td>10</td>\n",
       "      <td>NaN</td>\n",
       "      <td>9.0</td>\n",
       "      <td>10</td>\n",
       "      <td>20</td>\n",
       "    </tr>\n",
       "    <tr>\n",
       "      <th>2</th>\n",
       "      <td>11</td>\n",
       "      <td>6.0</td>\n",
       "      <td>NaN</td>\n",
       "      <td>10</td>\n",
       "      <td>20</td>\n",
       "    </tr>\n",
       "    <tr>\n",
       "      <th>3</th>\n",
       "      <td>12</td>\n",
       "      <td>3.0</td>\n",
       "      <td>NaN</td>\n",
       "      <td>10</td>\n",
       "      <td>20</td>\n",
       "    </tr>\n",
       "  </tbody>\n",
       "</table>\n",
       "</div>"
      ],
      "text/plain": [
       "   Price  Qty_Ask  Qty_Bid  Discount  Ts\n",
       "0      5      NaN      8.0        10  20\n",
       "1     10      NaN      9.0        10  20\n",
       "2     11      6.0      NaN        10  20\n",
       "3     12      3.0      NaN        10  20"
      ]
     },
     "execution_count": 271,
     "metadata": {},
     "output_type": "execute_result"
    }
   ],
   "source": [
    "buy_sell_orderN_dataframe_Ni(buy_order1,sell_order1,2,10,20)"
   ]
  },
  {
   "cell_type": "code",
   "execution_count": 272,
   "metadata": {},
   "outputs": [],
   "source": [
    "def df_order_sell(df):\n",
    "    buy_order = df['Qty_Bid'].dropna().to_dict()\n",
    "    sell_order = df['Qty_Ask'].dropna().to_dict()\n",
    "    return [buy_order,sell_order]\n",
    "\n",
    "def full_df_order_sell(df):\n",
    "    dfi=df.copy().set_index('Price')\n",
    "    return df_order_sell(dfi)"
   ]
  },
  {
   "cell_type": "code",
   "execution_count": 273,
   "metadata": {},
   "outputs": [
    {
     "name": "stderr",
     "output_type": "stream",
     "text": [
      "C:\\Users\\Shikha\\Anaconda3\\lib\\site-packages\\ipykernel_launcher.py:1: FutureWarning: Sorting because non-concatenation axis is not aligned. A future version\n",
      "of pandas will change to not sort by default.\n",
      "\n",
      "To accept the future behavior, pass 'sort=False'.\n",
      "\n",
      "To retain the current behavior and silence the warning, pass 'sort=True'.\n",
      "\n",
      "  \"\"\"Entry point for launching an IPython kernel.\n"
     ]
    },
    {
     "data": {
      "text/plain": [
       "[{1: 6.0, 3: 5.0, 4: 2.0, 5: 8.0, 10: 9.0},\n",
       " {11: 6.0, 12: 3.0, 14: 8.0, 16: 9.0, 19: 2.0}]"
      ]
     },
     "execution_count": 273,
     "metadata": {},
     "output_type": "execute_result"
    }
   ],
   "source": [
    "df_order_sell(pd.concat([order_dataframe(buy_order1,'B'),order_dataframe(sell_order1,'S')]))"
   ]
  },
  {
   "cell_type": "code",
   "execution_count": 274,
   "metadata": {},
   "outputs": [
    {
     "name": "stderr",
     "output_type": "stream",
     "text": [
      "C:\\Users\\Shikha\\Anaconda3\\lib\\site-packages\\ipykernel_launcher.py:1: FutureWarning: Sorting because non-concatenation axis is not aligned. A future version\n",
      "of pandas will change to not sort by default.\n",
      "\n",
      "To accept the future behavior, pass 'sort=False'.\n",
      "\n",
      "To retain the current behavior and silence the warning, pass 'sort=True'.\n",
      "\n",
      "  \"\"\"Entry point for launching an IPython kernel.\n"
     ]
    },
    {
     "data": {
      "text/html": [
       "<div>\n",
       "<style scoped>\n",
       "    .dataframe tbody tr th:only-of-type {\n",
       "        vertical-align: middle;\n",
       "    }\n",
       "\n",
       "    .dataframe tbody tr th {\n",
       "        vertical-align: top;\n",
       "    }\n",
       "\n",
       "    .dataframe thead th {\n",
       "        text-align: right;\n",
       "    }\n",
       "</style>\n",
       "<table border=\"1\" class=\"dataframe\">\n",
       "  <thead>\n",
       "    <tr style=\"text-align: right;\">\n",
       "      <th></th>\n",
       "      <th>Price</th>\n",
       "      <th>Qty_Ask</th>\n",
       "      <th>Qty_Bid</th>\n",
       "    </tr>\n",
       "  </thead>\n",
       "  <tbody>\n",
       "    <tr>\n",
       "      <th>0</th>\n",
       "      <td>1</td>\n",
       "      <td>NaN</td>\n",
       "      <td>6.0</td>\n",
       "    </tr>\n",
       "    <tr>\n",
       "      <th>1</th>\n",
       "      <td>3</td>\n",
       "      <td>NaN</td>\n",
       "      <td>5.0</td>\n",
       "    </tr>\n",
       "    <tr>\n",
       "      <th>2</th>\n",
       "      <td>4</td>\n",
       "      <td>NaN</td>\n",
       "      <td>2.0</td>\n",
       "    </tr>\n",
       "    <tr>\n",
       "      <th>3</th>\n",
       "      <td>5</td>\n",
       "      <td>NaN</td>\n",
       "      <td>8.0</td>\n",
       "    </tr>\n",
       "    <tr>\n",
       "      <th>4</th>\n",
       "      <td>10</td>\n",
       "      <td>NaN</td>\n",
       "      <td>9.0</td>\n",
       "    </tr>\n",
       "    <tr>\n",
       "      <th>5</th>\n",
       "      <td>11</td>\n",
       "      <td>6.0</td>\n",
       "      <td>NaN</td>\n",
       "    </tr>\n",
       "    <tr>\n",
       "      <th>6</th>\n",
       "      <td>12</td>\n",
       "      <td>3.0</td>\n",
       "      <td>NaN</td>\n",
       "    </tr>\n",
       "    <tr>\n",
       "      <th>7</th>\n",
       "      <td>14</td>\n",
       "      <td>8.0</td>\n",
       "      <td>NaN</td>\n",
       "    </tr>\n",
       "    <tr>\n",
       "      <th>8</th>\n",
       "      <td>16</td>\n",
       "      <td>9.0</td>\n",
       "      <td>NaN</td>\n",
       "    </tr>\n",
       "    <tr>\n",
       "      <th>9</th>\n",
       "      <td>19</td>\n",
       "      <td>2.0</td>\n",
       "      <td>NaN</td>\n",
       "    </tr>\n",
       "  </tbody>\n",
       "</table>\n",
       "</div>"
      ],
      "text/plain": [
       "   Price  Qty_Ask  Qty_Bid\n",
       "0      1      NaN      6.0\n",
       "1      3      NaN      5.0\n",
       "2      4      NaN      2.0\n",
       "3      5      NaN      8.0\n",
       "4     10      NaN      9.0\n",
       "5     11      6.0      NaN\n",
       "6     12      3.0      NaN\n",
       "7     14      8.0      NaN\n",
       "8     16      9.0      NaN\n",
       "9     19      2.0      NaN"
      ]
     },
     "execution_count": 274,
     "metadata": {},
     "output_type": "execute_result"
    }
   ],
   "source": [
    "pd.concat([order_dataframe(buy_order1,'B'),order_dataframe(sell_order1,'S')]).reset_index()"
   ]
  },
  {
   "cell_type": "code",
   "execution_count": 275,
   "metadata": {},
   "outputs": [
    {
     "name": "stderr",
     "output_type": "stream",
     "text": [
      "C:\\Users\\Shikha\\Anaconda3\\lib\\site-packages\\ipykernel_launcher.py:1: FutureWarning: Sorting because non-concatenation axis is not aligned. A future version\n",
      "of pandas will change to not sort by default.\n",
      "\n",
      "To accept the future behavior, pass 'sort=False'.\n",
      "\n",
      "To retain the current behavior and silence the warning, pass 'sort=True'.\n",
      "\n",
      "  \"\"\"Entry point for launching an IPython kernel.\n"
     ]
    },
    {
     "data": {
      "text/plain": [
       "[{1: 6.0, 3: 5.0, 4: 2.0, 5: 8.0, 10: 9.0},\n",
       " {11: 6.0, 12: 3.0, 14: 8.0, 16: 9.0, 19: 2.0}]"
      ]
     },
     "execution_count": 275,
     "metadata": {},
     "output_type": "execute_result"
    }
   ],
   "source": [
    "full_df_order_sell(pd.concat([order_dataframe(buy_order1,'B'),order_dataframe(sell_order1,'S')]).reset_index())"
   ]
  },
  {
   "cell_type": "code",
   "execution_count": 276,
   "metadata": {},
   "outputs": [],
   "source": [
    "def cumm(order,orderN):\n",
    "    if orderN == 'B':\n",
    "        df_order = order_dataframe(order,orderN,True)\n",
    "        order_col='Qty_Bid'\n",
    "    elif orderN == 'S':\n",
    "        df_order = order_dataframe(order,orderN,False)\n",
    "        order_col='Qty_Ask'\n",
    "    else:\n",
    "        df_order=order_dataframe(order,orderN,False)\n",
    "        order_col='Qty'\n",
    "    return df_order.cumsum().to_dict()[order_col]\n",
    "\n",
    "def df_cumm_buy_sell_order(buy_order,sell_order):\n",
    "    return buy_sell_order_dataframe(cumm(buy_order,'B'),cumm(sell_order,'S'))\n",
    "\n",
    "def df_cumm_buy_sell_order1(buy_order,sell_order):\n",
    "    return buy_sell_order_dataframe1(cumm(buy_order,'B'),cumm(sell_order,'S'))\n",
    "\n",
    "def df_cumm_buy_sell_orderN(buy_order,sell_order,n):\n",
    "    return buy_sell_orderN_dataframe(cumm(buy_order,'B'),cumm(sell_order,'S'),n)"
   ]
  },
  {
   "cell_type": "code",
   "execution_count": 277,
   "metadata": {},
   "outputs": [
    {
     "data": {
      "text/plain": [
       "{10: 9, 5: 17, 4: 19, 3: 24, 1: 30}"
      ]
     },
     "execution_count": 277,
     "metadata": {},
     "output_type": "execute_result"
    }
   ],
   "source": [
    "cumm(buy_order1,'B')"
   ]
  },
  {
   "cell_type": "code",
   "execution_count": 278,
   "metadata": {},
   "outputs": [
    {
     "data": {
      "text/plain": [
       "{11: 6, 12: 9, 14: 17, 16: 26, 19: 28}"
      ]
     },
     "execution_count": 278,
     "metadata": {},
     "output_type": "execute_result"
    }
   ],
   "source": [
    "cumm(sell_order1,'S')"
   ]
  },
  {
   "cell_type": "code",
   "execution_count": 279,
   "metadata": {},
   "outputs": [
    {
     "data": {
      "text/plain": [
       "{10: 2, 11: 5}"
      ]
     },
     "execution_count": 279,
     "metadata": {},
     "output_type": "execute_result"
    }
   ],
   "source": [
    "cumm(dic_trade,'T')"
   ]
  },
  {
   "cell_type": "code",
   "execution_count": 280,
   "metadata": {},
   "outputs": [
    {
     "name": "stderr",
     "output_type": "stream",
     "text": [
      "C:\\Users\\Shikha\\Anaconda3\\lib\\site-packages\\ipykernel_launcher.py:26: FutureWarning: Sorting because non-concatenation axis is not aligned. A future version\n",
      "of pandas will change to not sort by default.\n",
      "\n",
      "To accept the future behavior, pass 'sort=False'.\n",
      "\n",
      "To retain the current behavior and silence the warning, pass 'sort=True'.\n",
      "\n"
     ]
    },
    {
     "data": {
      "text/html": [
       "<div>\n",
       "<style scoped>\n",
       "    .dataframe tbody tr th:only-of-type {\n",
       "        vertical-align: middle;\n",
       "    }\n",
       "\n",
       "    .dataframe tbody tr th {\n",
       "        vertical-align: top;\n",
       "    }\n",
       "\n",
       "    .dataframe thead th {\n",
       "        text-align: right;\n",
       "    }\n",
       "</style>\n",
       "<table border=\"1\" class=\"dataframe\">\n",
       "  <thead>\n",
       "    <tr style=\"text-align: right;\">\n",
       "      <th></th>\n",
       "      <th>Qty_Ask</th>\n",
       "      <th>Qty_Bid</th>\n",
       "    </tr>\n",
       "    <tr>\n",
       "      <th>Price</th>\n",
       "      <th></th>\n",
       "      <th></th>\n",
       "    </tr>\n",
       "  </thead>\n",
       "  <tbody>\n",
       "    <tr>\n",
       "      <th>1</th>\n",
       "      <td>NaN</td>\n",
       "      <td>30.0</td>\n",
       "    </tr>\n",
       "    <tr>\n",
       "      <th>3</th>\n",
       "      <td>NaN</td>\n",
       "      <td>24.0</td>\n",
       "    </tr>\n",
       "    <tr>\n",
       "      <th>4</th>\n",
       "      <td>NaN</td>\n",
       "      <td>19.0</td>\n",
       "    </tr>\n",
       "    <tr>\n",
       "      <th>5</th>\n",
       "      <td>NaN</td>\n",
       "      <td>17.0</td>\n",
       "    </tr>\n",
       "    <tr>\n",
       "      <th>10</th>\n",
       "      <td>NaN</td>\n",
       "      <td>9.0</td>\n",
       "    </tr>\n",
       "    <tr>\n",
       "      <th>11</th>\n",
       "      <td>6.0</td>\n",
       "      <td>NaN</td>\n",
       "    </tr>\n",
       "    <tr>\n",
       "      <th>12</th>\n",
       "      <td>9.0</td>\n",
       "      <td>NaN</td>\n",
       "    </tr>\n",
       "    <tr>\n",
       "      <th>14</th>\n",
       "      <td>17.0</td>\n",
       "      <td>NaN</td>\n",
       "    </tr>\n",
       "    <tr>\n",
       "      <th>16</th>\n",
       "      <td>26.0</td>\n",
       "      <td>NaN</td>\n",
       "    </tr>\n",
       "    <tr>\n",
       "      <th>19</th>\n",
       "      <td>28.0</td>\n",
       "      <td>NaN</td>\n",
       "    </tr>\n",
       "  </tbody>\n",
       "</table>\n",
       "</div>"
      ],
      "text/plain": [
       "       Qty_Ask  Qty_Bid\n",
       "Price                  \n",
       "1          NaN     30.0\n",
       "3          NaN     24.0\n",
       "4          NaN     19.0\n",
       "5          NaN     17.0\n",
       "10         NaN      9.0\n",
       "11         6.0      NaN\n",
       "12         9.0      NaN\n",
       "14        17.0      NaN\n",
       "16        26.0      NaN\n",
       "19        28.0      NaN"
      ]
     },
     "execution_count": 280,
     "metadata": {},
     "output_type": "execute_result"
    }
   ],
   "source": [
    "df_cumm_buy_sell_order(buy_order1,sell_order1)"
   ]
  },
  {
   "cell_type": "code",
   "execution_count": 281,
   "metadata": {},
   "outputs": [
    {
     "data": {
      "text/html": [
       "<div>\n",
       "<style scoped>\n",
       "    .dataframe tbody tr th:only-of-type {\n",
       "        vertical-align: middle;\n",
       "    }\n",
       "\n",
       "    .dataframe tbody tr th {\n",
       "        vertical-align: top;\n",
       "    }\n",
       "\n",
       "    .dataframe thead th {\n",
       "        text-align: right;\n",
       "    }\n",
       "</style>\n",
       "<table border=\"1\" class=\"dataframe\">\n",
       "  <thead>\n",
       "    <tr style=\"text-align: right;\">\n",
       "      <th></th>\n",
       "      <th>Qty_Bid</th>\n",
       "      <th>Qty_Ask</th>\n",
       "    </tr>\n",
       "    <tr>\n",
       "      <th>Price</th>\n",
       "      <th></th>\n",
       "      <th></th>\n",
       "    </tr>\n",
       "  </thead>\n",
       "  <tbody>\n",
       "    <tr>\n",
       "      <th>1</th>\n",
       "      <td>30.0</td>\n",
       "      <td>NaN</td>\n",
       "    </tr>\n",
       "    <tr>\n",
       "      <th>3</th>\n",
       "      <td>24.0</td>\n",
       "      <td>NaN</td>\n",
       "    </tr>\n",
       "    <tr>\n",
       "      <th>4</th>\n",
       "      <td>19.0</td>\n",
       "      <td>NaN</td>\n",
       "    </tr>\n",
       "    <tr>\n",
       "      <th>5</th>\n",
       "      <td>17.0</td>\n",
       "      <td>NaN</td>\n",
       "    </tr>\n",
       "    <tr>\n",
       "      <th>10</th>\n",
       "      <td>9.0</td>\n",
       "      <td>NaN</td>\n",
       "    </tr>\n",
       "    <tr>\n",
       "      <th>11</th>\n",
       "      <td>NaN</td>\n",
       "      <td>6.0</td>\n",
       "    </tr>\n",
       "    <tr>\n",
       "      <th>12</th>\n",
       "      <td>NaN</td>\n",
       "      <td>9.0</td>\n",
       "    </tr>\n",
       "    <tr>\n",
       "      <th>14</th>\n",
       "      <td>NaN</td>\n",
       "      <td>17.0</td>\n",
       "    </tr>\n",
       "    <tr>\n",
       "      <th>16</th>\n",
       "      <td>NaN</td>\n",
       "      <td>26.0</td>\n",
       "    </tr>\n",
       "    <tr>\n",
       "      <th>19</th>\n",
       "      <td>NaN</td>\n",
       "      <td>28.0</td>\n",
       "    </tr>\n",
       "  </tbody>\n",
       "</table>\n",
       "</div>"
      ],
      "text/plain": [
       "       Qty_Bid  Qty_Ask\n",
       "Price                  \n",
       "1         30.0      NaN\n",
       "3         24.0      NaN\n",
       "4         19.0      NaN\n",
       "5         17.0      NaN\n",
       "10         9.0      NaN\n",
       "11         NaN      6.0\n",
       "12         NaN      9.0\n",
       "14         NaN     17.0\n",
       "16         NaN     26.0\n",
       "19         NaN     28.0"
      ]
     },
     "execution_count": 281,
     "metadata": {},
     "output_type": "execute_result"
    }
   ],
   "source": [
    "df_cumm_buy_sell_order1(buy_order1,sell_order1)"
   ]
  },
  {
   "cell_type": "code",
   "execution_count": 282,
   "metadata": {},
   "outputs": [
    {
     "name": "stderr",
     "output_type": "stream",
     "text": [
      "C:\\Users\\Shikha\\Anaconda3\\lib\\site-packages\\ipykernel_launcher.py:38: FutureWarning: Sorting because non-concatenation axis is not aligned. A future version\n",
      "of pandas will change to not sort by default.\n",
      "\n",
      "To accept the future behavior, pass 'sort=False'.\n",
      "\n",
      "To retain the current behavior and silence the warning, pass 'sort=True'.\n",
      "\n"
     ]
    },
    {
     "data": {
      "text/html": [
       "<div>\n",
       "<style scoped>\n",
       "    .dataframe tbody tr th:only-of-type {\n",
       "        vertical-align: middle;\n",
       "    }\n",
       "\n",
       "    .dataframe tbody tr th {\n",
       "        vertical-align: top;\n",
       "    }\n",
       "\n",
       "    .dataframe thead th {\n",
       "        text-align: right;\n",
       "    }\n",
       "</style>\n",
       "<table border=\"1\" class=\"dataframe\">\n",
       "  <thead>\n",
       "    <tr style=\"text-align: right;\">\n",
       "      <th></th>\n",
       "      <th>Qty_Ask</th>\n",
       "      <th>Qty_Bid</th>\n",
       "    </tr>\n",
       "    <tr>\n",
       "      <th>Price</th>\n",
       "      <th></th>\n",
       "      <th></th>\n",
       "    </tr>\n",
       "  </thead>\n",
       "  <tbody>\n",
       "    <tr>\n",
       "      <th>4</th>\n",
       "      <td>NaN</td>\n",
       "      <td>19.0</td>\n",
       "    </tr>\n",
       "    <tr>\n",
       "      <th>5</th>\n",
       "      <td>NaN</td>\n",
       "      <td>17.0</td>\n",
       "    </tr>\n",
       "    <tr>\n",
       "      <th>10</th>\n",
       "      <td>NaN</td>\n",
       "      <td>9.0</td>\n",
       "    </tr>\n",
       "    <tr>\n",
       "      <th>11</th>\n",
       "      <td>6.0</td>\n",
       "      <td>NaN</td>\n",
       "    </tr>\n",
       "    <tr>\n",
       "      <th>12</th>\n",
       "      <td>9.0</td>\n",
       "      <td>NaN</td>\n",
       "    </tr>\n",
       "    <tr>\n",
       "      <th>14</th>\n",
       "      <td>17.0</td>\n",
       "      <td>NaN</td>\n",
       "    </tr>\n",
       "  </tbody>\n",
       "</table>\n",
       "</div>"
      ],
      "text/plain": [
       "       Qty_Ask  Qty_Bid\n",
       "Price                  \n",
       "4          NaN     19.0\n",
       "5          NaN     17.0\n",
       "10         NaN      9.0\n",
       "11         6.0      NaN\n",
       "12         9.0      NaN\n",
       "14        17.0      NaN"
      ]
     },
     "execution_count": 282,
     "metadata": {},
     "output_type": "execute_result"
    }
   ],
   "source": [
    "df_cumm_buy_sell_orderN(buy_order1,sell_order1,3)"
   ]
  },
  {
   "cell_type": "code",
   "execution_count": 283,
   "metadata": {},
   "outputs": [],
   "source": [
    "def plot_order(buy_order,sell_order):\n",
    "    buy_sell_order_dataframe1(buy_order,sell_order).plot(kind='bar',color=['red','blue'],\\\n",
    "         title='Bid/Ask Queue');\n",
    "    plt.axhline(0,color='black');\n",
    "\n",
    "def plot_orderN(buy_order,sell_order,n):\n",
    "    buy_sell_orderN_dataframe1(buy_order,sell_order,n).plot(kind='bar',color=['red','blue'],\\\n",
    "         title='Bid/Ask Queue');\n",
    "    plt.axhline(0,color='black');\n",
    "\n",
    "def plot_df(df):\n",
    "    df.plot(kind='bar',color=['red','blue'],\\\n",
    "         title='Bid/Ask Queue');\n",
    "    plt.axhline(0,color='black');\n",
    "\n",
    "def plot_cumm(buy_order,sell_order):\n",
    "    df_cumm_buy_sell_order1(buy_order,sell_order).plot(kind='bar',color=['red','blue'],\\\n",
    "            title='Cumulative Bid/Ask Queue');\n",
    "    plt.axhline(0,color='black');\n",
    "    \n",
    "def plot_cummN(buy_order,sell_order,n):\n",
    "    df_cumm_buy_sell_orderN(buy_order,sell_order,n).plot(kind='bar',color=['red','blue'],\\\n",
    "            title='Cumulative Bid/Ask Queue');\n",
    "    plt.axhline(0,color='black');"
   ]
  },
  {
   "cell_type": "code",
   "execution_count": 284,
   "metadata": {},
   "outputs": [
    {
     "data": {
      "image/png": "[encoded data removed]",
      "text/plain": [
       "<Figure size 432x288 with 1 Axes>"
      ]
     },
     "metadata": {
      "needs_background": "light"
     },
     "output_type": "display_data"
    }
   ],
   "source": [
    "plot_order(buy_order1,sell_order1)"
   ]
  },
  {
   "cell_type": "code",
   "execution_count": 285,
   "metadata": {},
   "outputs": [
    {
     "data": {
      "image/png": "[encoded data removed]",
      "text/plain": [
       "<Figure size 432x288 with 1 Axes>"
      ]
     },
     "metadata": {
      "needs_background": "light"
     },
     "output_type": "display_data"
    }
   ],
   "source": [
    "plot_orderN(buy_order1,sell_order1,3)"
   ]
  },
  {
   "cell_type": "code",
   "execution_count": 286,
   "metadata": {},
   "outputs": [
    {
     "data": {
      "image/png": "[encoded data removed]",
      "text/plain": [
       "<Figure size 432x288 with 1 Axes>"
      ]
     },
     "metadata": {
      "needs_background": "light"
     },
     "output_type": "display_data"
    }
   ],
   "source": [
    "plot_cumm(buy_order1,sell_order1)"
   ]
  },
  {
   "cell_type": "code",
   "execution_count": 287,
   "metadata": {},
   "outputs": [
    {
     "name": "stderr",
     "output_type": "stream",
     "text": [
      "C:\\Users\\Shikha\\Anaconda3\\lib\\site-packages\\ipykernel_launcher.py:38: FutureWarning: Sorting because non-concatenation axis is not aligned. A future version\n",
      "of pandas will change to not sort by default.\n",
      "\n",
      "To accept the future behavior, pass 'sort=False'.\n",
      "\n",
      "To retain the current behavior and silence the warning, pass 'sort=True'.\n",
      "\n"
     ]
    },
    {
     "data": {
      "image/png": "[encoded data removed]",
      "text/plain": [
       "<Figure size 432x288 with 1 Axes>"
      ]
     },
     "metadata": {
      "needs_background": "light"
     },
     "output_type": "display_data"
    }
   ],
   "source": [
    "plot_cummN(buy_order1,sell_order1,3)"
   ]
  },
  {
   "cell_type": "code",
   "execution_count": 355,
   "metadata": {},
   "outputs": [],
   "source": [
    "# Test Orders\n",
    "\n",
    "orderLBa={'Date': '2018-03-01','OrderID':1,'OrderCharacteristic':1,'Direction': 'B','OrderType': 'L','Price': 98,\n",
    "          'Quantity': 100,'Trader':1,}"
   ]
  },
  {
   "cell_type": "code",
   "execution_count": 356,
   "metadata": {},
   "outputs": [],
   "source": [
    "orderLBm={'Date': '2018-03-01','OrderID':1,'OrderCharacteristic':1,'Direction': 'B','OrderType': 'L','Price': 102,\n",
    "          'Quantity': 100,'Trader':1,}"
   ]
  },
  {
   "cell_type": "code",
   "execution_count": 357,
   "metadata": {},
   "outputs": [],
   "source": [
    "orderLBmt={'Date': '2018-03-01','OrderID':1,'OrderCharacteristic':1,'Direction': 'B','OrderType': 'L','Price': 102,\n",
    "           'Quantity': 40,'Trader':1,}"
   ]
  },
  {
   "cell_type": "code",
   "execution_count": 358,
   "metadata": {},
   "outputs": [],
   "source": [
    "orderLSa={'Date': '2018-03-01','OrderID':1,'OrderCharacteristic':1,'Direction': 'S','OrderType': 'L','Price': 102,\n",
    "          'Quantity': 100,'Trader':1,}"
   ]
  },
  {
   "cell_type": "code",
   "execution_count": 359,
   "metadata": {},
   "outputs": [],
   "source": [
    "orderLSm={'Date': '2018-03-01','OrderID':1,'OrderCharacteristic':1,'Direction': 'S','OrderType': 'L','Price': 98,\n",
    "          'Quantity': 100,'Trader':1,}"
   ]
  },
  {
   "cell_type": "code",
   "execution_count": 360,
   "metadata": {},
   "outputs": [],
   "source": [
    "orderLSmt={'Date': '2018-03-01','OrderID':1,'OrderCharacteristic':1,'Direction': 'S','OrderType': 'L','Price': 98,\n",
    "           'Quantity': 40,'Trader':1,}"
   ]
  },
  {
   "cell_type": "code",
   "execution_count": 361,
   "metadata": {},
   "outputs": [],
   "source": [
    "orderMB={'Date': '2018-03-01','OrderID':1,'OrderCharacteristic':1,'Direction': 'B','OrderType': 'M','Price': 0,\n",
    "         'Quantity': 65,'Trader':1,}"
   ]
  },
  {
   "cell_type": "code",
   "execution_count": 362,
   "metadata": {},
   "outputs": [],
   "source": [
    "orderMS={'Date': '2018-03-01','OrderID':1,'OrderCharacteristic':1,'Direction': 'S','OrderType': 'M','Price': 0,\n",
    "         'Quantity': 65,'Trader':1,}"
   ]
  },
  {
   "cell_type": "code",
   "execution_count": 363,
   "metadata": {},
   "outputs": [],
   "source": [
    "orderMBt={'Date': '2018-03-01','OrderID':1,'OrderCharacteristic':1,'Direction': 'B','OrderType': 'M','Price': 0,\n",
    "         'Quantity': 120,'Trader':1,}"
   ]
  },
  {
   "cell_type": "code",
   "execution_count": 364,
   "metadata": {},
   "outputs": [],
   "source": [
    "orderMSt={'Date': '2018-03-01','OrderID':1,'OrderCharacteristic':1,'Direction': 'S','OrderType': 'M','Price': 0,\n",
    "         'Quantity': 120,'Trader':1,}"
   ]
  },
  {
   "cell_type": "code",
   "execution_count": 365,
   "metadata": {},
   "outputs": [],
   "source": [
    "orderCBT={'Date': '2018-03-01','OrderID':1,'OrderCharacteristic':1,'Direction': 'B','OrderType': 'C','Price': 98,\n",
    "         'Quantity': 35,'Trader':1,}"
   ]
  },
  {
   "cell_type": "code",
   "execution_count": 366,
   "metadata": {},
   "outputs": [],
   "source": [
    "orderCBF1={'Date': '2018-03-01','OrderID':1,'OrderCharacteristic':1,'Direction': 'B','OrderType': 'C','Price': 99,\n",
    "         'Quantity': 35,'Trader':1,}"
   ]
  },
  {
   "cell_type": "code",
   "execution_count": 367,
   "metadata": {},
   "outputs": [],
   "source": [
    "orderCBF2={'Date': '2018-03-01','OrderID':1,'OrderCharacteristic':1,'Direction': 'B','OrderType': 'C','Price': 90,\n",
    "         'Quantity': 35,'Trader':1,}"
   ]
  },
  {
   "cell_type": "code",
   "execution_count": 368,
   "metadata": {},
   "outputs": [],
   "source": [
    "orderCST={'Date': '2018-03-01','OrderID':1,'OrderCharacteristic':1,'Direction': 'S','OrderType': 'C','Price': 103,\n",
    "         'Quantity': 35,'Trader':1,}"
   ]
  },
  {
   "cell_type": "code",
   "execution_count": 369,
   "metadata": {},
   "outputs": [],
   "source": [
    "orderCST1={'Date': '2018-03-01','OrderID':1,'OrderCharacteristic':1,'Direction': 'S','OrderType': 'C','Price': 102,\n",
    "         'Quantity': 35,'Trader':1,}"
   ]
  },
  {
   "cell_type": "code",
   "execution_count": 370,
   "metadata": {},
   "outputs": [],
   "source": [
    "orderCST2={'Date': '2018-03-01','OrderID':1,'OrderCharacteristic':1,'Direction': 'S','OrderType': 'C','Price': 110,\n",
    "         'Quantity': 35,'Trader':1,}"
   ]
  },
  {
   "cell_type": "code",
   "execution_count": 371,
   "metadata": {},
   "outputs": [],
   "source": [
    "orderlist=['orderLBa','orderLBm','orderLBmt',\\\n",
    "           'orderLSa','orderLSm','orderLSmt',\\\n",
    "           'orderMB','orderMBt',\\\n",
    "           'orderMS','orderMSt',\\\n",
    "           'orderCBT','orderCBF1','orderCBF2',\\\n",
    "           'orderCST','orderCSF1','orderCSF2']"
   ]
  },
  {
   "cell_type": "code",
   "execution_count": 372,
   "metadata": {},
   "outputs": [],
   "source": [
    "def summ(orde):\n",
    "    return [orde['OrderType'],orde['Direction'],{orde['Price']:orde['Quantity']}]"
   ]
  },
  {
   "cell_type": "code",
   "execution_count": 373,
   "metadata": {},
   "outputs": [],
   "source": [
    "def add_dict(order,x):\n",
    "    new_order=order.copy()\n",
    "    try:\n",
    "        new_order[x['Price']]+=x['Quantity']\n",
    "    except:\n",
    "        new_order[x['Price']]=x['Quantity']\n",
    "    return [new_order,True]"
   ]
  },
  {
   "cell_type": "code",
   "execution_count": 374,
   "metadata": {},
   "outputs": [],
   "source": [
    "def subtract_dict(order,x):\n",
    "    new_order=order.copy()\n",
    "    cncl=True\n",
    "    try:\n",
    "        new_order[x['Price']]-=x['Quantity']\n",
    "    except:\n",
    "        cncl=False\n",
    "    try:\n",
    "        if new_order[x['Price']]<0:\n",
    "            cncl=False\n",
    "            new_order=order.copy()\n",
    "    except:\n",
    "        pass\n",
    "    return [new_order,cncl]"
   ]
  },
  {
   "cell_type": "code",
   "execution_count": 375,
   "metadata": {},
   "outputs": [],
   "source": [
    "def add_cancel(order,x):\n",
    "    if x['OrderType']=='C':\n",
    "        return subtract_dict(order,x)\n",
    "    else:\n",
    "        return add_dict(order,x)"
   ]
  },
  {
   "cell_type": "code",
   "execution_count": 376,
   "metadata": {},
   "outputs": [],
   "source": [
    "def buy_sell_add_cancel(buy_order,sell_order,x):\n",
    "    new_buy_order=buy_order.copy()\n",
    "    new_sell_order=sell_order.copy()\n",
    "    if x['Direction']=='B':\n",
    "        new_buy_order, cncl = add_cancel(new_buy_order,x)\n",
    "    else:\n",
    "        new_sell_order, cncl = add_cancel(new_sell_order,x)\n",
    "    if cncl:\n",
    "        pro={}\n",
    "    else:\n",
    "        pro=x.copy()\n",
    "    return [new_buy_order,new_sell_order,{},pro,cncl]"
   ]
  },
  {
   "cell_type": "code",
   "execution_count": 377,
   "metadata": {},
   "outputs": [],
   "source": [
    "def sel_order_qty(order,orderN,quantity):\n",
    "    order_c=cumm(order,orderN)\n",
    "    order_sel=dict([(p,order[p]) for (p,v) in order_c.items() if v>=quantity])\n",
    "    dic_trade=dict([(p,q[p]) for (p,v) in order_c.items() if v<quantity])\n",
    "    order_re=quantity-total(dic_trade)\n",
    "    if order_re > 0:\n",
    "        if orderN =='B':\n",
    "            bb,ba,buy_firstB,buy_firstA=buy(order_sel,{})\n",
    "            buy_firstF=buy_firstB\n",
    "            bp=bb\n",
    "        else:\n",
    "            bb,ba,buy_firstB,buy_firstA=buy({},order_sel)\n",
    "            buy_firstF=buy_firstA\n",
    "            bp=ba\n",
    "        if (buy_firstF and (order_sel[bp]>=order_re)):\n",
    "            dic_trade[bp]=order_re\n",
    "            order_sel[bp]-=order_re\n",
    "    return [order_sel,dic_trade]"
   ]
  },
  {
   "cell_type": "code",
   "execution_count": 378,
   "metadata": {},
   "outputs": [],
   "source": [
    "def sel_order_px(order,orderN,px):\n",
    "    if orderN == 'B':\n",
    "        s=+1\n",
    "    else:\n",
    "        s=-1\n",
    "    order_sel=dict([(p,order[p]) for (p,v) in order.items() if s*p<s*px])\n",
    "    dic_trade=dict([(p,order[p]) for (p,v) in order.items() if s*p>=s*px])\n",
    "    return [order_sel,dic_trade]"
   ]
  },
  {
   "cell_type": "code",
   "execution_count": 379,
   "metadata": {},
   "outputs": [],
   "source": [
    "def buy_sell_match(buy_order,sell_order,x):\n",
    "    # Initialize answers\n",
    "    new_buy_order=buy_order.copy()\n",
    "    new_sell_order=sell_order.copy()\n",
    "    dic_trade={}\n",
    "    pro=x.copy()\n",
    "    # Get order information\n",
    "    order_type=x['OrderType']=='M'\n",
    "    quantity=x['Quantity']\n",
    "    price=x['Price']\n",
    "    direction=x['Direction']=='B'\n",
    "    # If OrderType is M, do not filter by price\n",
    "    if order_type:\n",
    "        if direction:\n",
    "            price=1000000000\n",
    "        else:\n",
    "            price=0\n",
    "    # Filter relevant queue by price\n",
    "    # rq1 is the remaining queue (not tradable)\n",
    "    # uq is the tradable queue\n",
    "    if direction:\n",
    "        r_order1,u_order=sel_order_px(sell_order,'S',price)\n",
    "    else:\n",
    "        r_order1,u_order=sel_order_px(buy_order,'B',price)\n",
    "    # Total available on filtered queue\n",
    "    u_orderT=total(u_order)\n",
    "    if quantity>=u_orderT:\n",
    "        # Shortcut if order amount greater than total available\n",
    "        dic_trade=u_order.copy()\n",
    "        if quantity==u_orderT:\n",
    "            pro={}\n",
    "        else:\n",
    "            pro['Quantity']=quantity-u_orderT\n",
    "        r_order2={}\n",
    "        if direction:\n",
    "            new_sell_order={**r_order1, **r_order2}\n",
    "        else:\n",
    "            new_buy_order={**r_order1, **r_order2}\n",
    "    else:\n",
    "        # Break filtered queue into remaining and traded\n",
    "        if direction:\n",
    "            r_order2, dic_trade= sel_order_quantity(new_sell_order,'S',quantity)\n",
    "            new_sell_queue={**r_order1, **r_order2}\n",
    "        else:\n",
    "            r_order2, dic_trade= sel_order_quantity(new_buy_order,'B',quantity)\n",
    "            new_buy_order={**r_order1, **r_order2}\n",
    "        pro={}\n",
    "    if ((pro!={}) and not(order_type)):\n",
    "        new_buy_order,new_sell_order,aux1,pro,aux2=buy_sell_add_cancel(new_buy_order,new_sell_order,pro)\n",
    "    return [new_buy_order,new_sell_order,dic_trade,pro,pro=={}]"
   ]
  },
  {
   "cell_type": "code",
   "execution_count": 395,
   "metadata": {},
   "outputs": [],
   "source": [
    "def pro_order(buy_order,sell_order,do,status):\n",
    "    new_buy_order=buy_order.copy()\n",
    "    new_sell_order=sell_order.copy()\n",
    "    if status=='PM':\n",
    "        new_buy_order, new_sell_order, dic_trade, pro, cncl = buy_sell_add_cancel(new_buy_order,new_sell_order,do)\n",
    "    elif status=='OA':\n",
    "        pass\n",
    "    else:\n",
    "        if do['OrderType']=='M':\n",
    "            new_buy_order, new_sell_order, dic_trade, pro, cncl = buy_sell_match(new_buy_order,new_sell_order,do)\n",
    "        else:\n",
    "            if do['OrderType']=='L':\n",
    "                bb,ba,buy_firstB,buy_firstA=buy(buy_order,sell_order)\n",
    "                lbf=(do['Direction']=='B') and \\\n",
    "                    (do['Price']>=ba) and buy_firstA\n",
    "                lsf=(do['Direction']=='S') and \\\n",
    "                    (do['Price']<=bb) and buy_firstB\n",
    "                if (lbf or lsf):\n",
    "                    new_buy_order,new_sell_order, dic_trade, pro, cncl = buy_sell_match(new_buy_order,new_sell_order,do)\n",
    "                else:\n",
    "                    new_buy_order,new_sell_order, dic_trade, pro, cncl = buy_sell_add_cancel(new_buy_order,new_sell_order,do)\n",
    "            else:\n",
    "                new_buy_order,new_sell_order, dic_trade, pro, cncl = buy_sell_add_cancel(new_buy_order,new_sell_order,do)\n",
    "    # Returns:\n",
    "    # nbq: New buy queue\n",
    "    # nsq: New sell queue\n",
    "    # dic_trade: Dict of trades (price:quantity)\n",
    "    # pro: Remaining non-placed-in-queue market order\n",
    "    # cncl: True if no problems in processing order\n",
    "    # cncl: False if a cancel was not possible or \n",
    "    #     there is a market order failed to execute\n",
    "    #     totally against the opposite queue\n",
    "    return [nonzero_order(new_buy_order),nonzero_order(new_sell_order),dic_trade,pro,cncl]"
   ]
  },
  {
   "cell_type": "code",
   "execution_count": 381,
   "metadata": {},
   "outputs": [
    {
     "data": {
      "text/plain": [
       "['orderLBa',\n",
       " 'orderLBm',\n",
       " 'orderLBmt',\n",
       " 'orderLSa',\n",
       " 'orderLSm',\n",
       " 'orderLSmt',\n",
       " 'orderMB',\n",
       " 'orderMBt',\n",
       " 'orderMS',\n",
       " 'orderMSt',\n",
       " 'orderCBT',\n",
       " 'orderCBF1',\n",
       " 'orderCBF2',\n",
       " 'orderCST',\n",
       " 'orderCSF1',\n",
       " 'orderCSF2']"
      ]
     },
     "execution_count": 381,
     "metadata": {},
     "output_type": "execute_result"
    }
   ],
   "source": [
    "# Testing order list\n",
    "\n",
    "orderlist"
   ]
  },
  {
   "cell_type": "code",
   "execution_count": 382,
   "metadata": {},
   "outputs": [
    {
     "data": {
      "text/plain": [
       "[{1: 6, 3: 5, 5: 8, 10: 9, 4: 2},\n",
       " {11: 6, 12: 3, 14: 8, 16: 9, 19: 2},\n",
       " ['L', 'B', {98: 100}],\n",
       " [{1: 6, 3: 5, 5: 8, 10: 9, 4: 2, 98: 100},\n",
       "  {11: 6, 12: 3, 14: 8, 16: 9, 19: 2},\n",
       "  {},\n",
       "  {},\n",
       "  True],\n",
       " {1: 6, 3: 5, 5: 8, 10: 9, 4: 2},\n",
       " {11: 6, 12: 3, 14: 8, 16: 9, 19: 2},\n",
       " ['L', 'S', {102: 100}],\n",
       " [{1: 6, 3: 5, 5: 8, 10: 9, 4: 2},\n",
       "  {11: 6, 12: 3, 14: 8, 16: 9, 19: 2, 102: 100},\n",
       "  {},\n",
       "  {},\n",
       "  True]]"
      ]
     },
     "execution_count": 382,
     "metadata": {},
     "output_type": "execute_result"
    }
   ],
   "source": [
    "# Adding to Order (Non-Crossing)\n",
    "\n",
    "# Pre Matching\n",
    "\n",
    "[buy_order1,sell_order1,summ(orderLBa),pro_order(buy_order1,sell_order1,orderLBa,'PM'),\n",
    " buy_order1,sell_order1,summ(orderLSa),pro_order(buy_order1,sell_order1,orderLSa,'PM')]"
   ]
  },
  {
   "cell_type": "code",
   "execution_count": 383,
   "metadata": {},
   "outputs": [
    {
     "data": {
      "image/png": "[encoded data removed]",
      "text/plain": [
       "<Figure size 432x288 with 1 Axes>"
      ]
     },
     "metadata": {
      "needs_background": "light"
     },
     "output_type": "display_data"
    }
   ],
   "source": [
    "plot_order({10:6,11:5,12:4,13:3,14:2},\n",
    "           {1:12,2:11,3:10,4:9,5:8})"
   ]
  },
  {
   "cell_type": "code",
   "execution_count": 384,
   "metadata": {},
   "outputs": [
    {
     "data": {
      "image/png": "[encoded data removed]",
      "text/plain": [
       "<Figure size 432x288 with 1 Axes>"
      ]
     },
     "metadata": {
      "needs_background": "light"
     },
     "output_type": "display_data"
    }
   ],
   "source": [
    "plot_order(buy_order1,sell_order1)"
   ]
  },
  {
   "cell_type": "code",
   "execution_count": 385,
   "metadata": {},
   "outputs": [
    {
     "data": {
      "text/plain": [
       "[{1: 6, 3: 5, 5: 8, 10: 9, 4: 2},\n",
       " {11: 6, 12: 3, 14: 8, 16: 9, 19: 2},\n",
       " ['L', 'B', {98: 100}],\n",
       " [{1: 6, 3: 5, 5: 8, 10: 9, 4: 2, 98: 72},\n",
       "  {},\n",
       "  {11: 6, 12: 3, 14: 8, 16: 9, 19: 2},\n",
       "  {},\n",
       "  True],\n",
       " {1: 6, 3: 5, 5: 8, 10: 9, 4: 2},\n",
       " {11: 6, 12: 3, 14: 8, 16: 9, 19: 2},\n",
       " ['L', 'S', {102: 100}],\n",
       " [{1: 6, 3: 5, 5: 8, 10: 9, 4: 2},\n",
       "  {11: 6, 12: 3, 14: 8, 16: 9, 19: 2, 102: 100},\n",
       "  {},\n",
       "  {},\n",
       "  True]]"
      ]
     },
     "execution_count": 385,
     "metadata": {},
     "output_type": "execute_result"
    }
   ],
   "source": [
    "# Normal Matching\n",
    "\n",
    "[buy_order1,sell_order1,summ(orderLBa),pro_order(buy_order1,sell_order1,orderLBa,'NM'),\n",
    " buy_order1,sell_order1,summ(orderLSa),pro_order(buy_order1,sell_order1,orderLSa,'NM')]"
   ]
  },
  {
   "cell_type": "code",
   "execution_count": 386,
   "metadata": {},
   "outputs": [
    {
     "data": {
      "image/png": "[encoded data removed]",
      "text/plain": [
       "<Figure size 432x288 with 1 Axes>"
      ]
     },
     "metadata": {
      "needs_background": "light"
     },
     "output_type": "display_data"
    }
   ],
   "source": [
    "plot_order({10:6,11:50,12:4,13:3,14:2},\n",
    "           {1:12,2:11,3:10,4:90,5:8})"
   ]
  },
  {
   "cell_type": "code",
   "execution_count": 387,
   "metadata": {},
   "outputs": [
    {
     "data": {
      "text/plain": [
       "[{1: 6, 3: 5, 5: 8, 10: 9, 4: 2},\n",
       " {11: 6, 12: 3, 14: 8, 16: 9, 19: 2},\n",
       " ['L', 'B', {102: 100}],\n",
       " [{1: 6, 3: 5, 5: 8, 10: 9, 4: 2, 102: 100},\n",
       "  {11: 6, 12: 3, 14: 8, 16: 9, 19: 2},\n",
       "  {},\n",
       "  {},\n",
       "  True],\n",
       " {1: 6, 3: 5, 5: 8, 10: 9, 4: 2},\n",
       " {11: 6, 12: 3, 14: 8, 16: 9, 19: 2},\n",
       " ['L', 'S', {98: 100}],\n",
       " [{1: 6, 3: 5, 5: 8, 10: 9, 4: 2},\n",
       "  {11: 6, 12: 3, 14: 8, 16: 9, 19: 2, 98: 100},\n",
       "  {},\n",
       "  {},\n",
       "  True]]"
      ]
     },
     "execution_count": 387,
     "metadata": {},
     "output_type": "execute_result"
    }
   ],
   "source": [
    "# Adding to order (Crossing)\n",
    "\n",
    "# Pre Matching\n",
    "\n",
    "[buy_order1,sell_order1,summ(orderLBm),pro_order(buy_order1,sell_order1,orderLBm,'PM'),\n",
    " buy_order1,sell_order1,summ(orderLSm),pro_order(buy_order1,sell_order1,orderLSm,'PM')]"
   ]
  },
  {
   "cell_type": "code",
   "execution_count": 388,
   "metadata": {},
   "outputs": [
    {
     "data": {
      "image/png": "[encoded data removed]",
      "text/plain": [
       "<Figure size 432x288 with 1 Axes>"
      ]
     },
     "metadata": {
      "needs_background": "light"
     },
     "output_type": "display_data"
    }
   ],
   "source": [
    "plot_order(buy_order1, sell_order1)"
   ]
  },
  {
   "cell_type": "code",
   "execution_count": 389,
   "metadata": {},
   "outputs": [
    {
     "data": {
      "text/plain": [
       "[{1: 6, 3: 5, 5: 8, 10: 9, 4: 2},\n",
       " {11: 6, 12: 3, 14: 8, 16: 9, 19: 2},\n",
       " ['L', 'B', {102: 100}],\n",
       " [{1: 6, 3: 5, 5: 8, 10: 9, 4: 2, 102: 72},\n",
       "  {},\n",
       "  {11: 6, 12: 3, 14: 8, 16: 9, 19: 2},\n",
       "  {},\n",
       "  True],\n",
       " {1: 6, 3: 5, 5: 8, 10: 9, 4: 2},\n",
       " {11: 6, 12: 3, 14: 8, 16: 9, 19: 2},\n",
       " ['L', 'S', {98: 100}],\n",
       " [{1: 6, 3: 5, 5: 8, 10: 9, 4: 2},\n",
       "  {11: 6, 12: 3, 14: 8, 16: 9, 19: 2, 98: 100},\n",
       "  {},\n",
       "  {},\n",
       "  True]]"
      ]
     },
     "execution_count": 389,
     "metadata": {},
     "output_type": "execute_result"
    }
   ],
   "source": [
    "# Executing against orders(Crossing)\n",
    "\n",
    "# Normal matching - Limit, balance unfilled at price\n",
    "\n",
    "[buy_order1,sell_order1,summ(orderLBm),pro_order(buy_order1,sell_order1,orderLBm,'NM'),\n",
    " buy_order1,sell_order1,summ(orderLSm),pro_order(buy_order1,sell_order1,orderLSm,'NM')]"
   ]
  },
  {
   "cell_type": "code",
   "execution_count": 390,
   "metadata": {},
   "outputs": [
    {
     "data": {
      "text/plain": [
       "[{1: 6, 3: 5, 5: 8, 10: 9, 4: 2},\n",
       " {11: 6, 12: 3, 14: 8, 16: 9, 19: 2},\n",
       " ['L', 'B', {102: 40}],\n",
       " [{1: 6, 3: 5, 5: 8, 10: 9, 4: 2, 102: 12},\n",
       "  {},\n",
       "  {11: 6, 12: 3, 14: 8, 16: 9, 19: 2},\n",
       "  {},\n",
       "  True],\n",
       " {1: 6, 3: 5, 5: 8, 10: 9, 4: 2},\n",
       " {11: 6, 12: 3, 14: 8, 16: 9, 19: 2},\n",
       " ['L', 'S', {98: 40}],\n",
       " [{1: 6, 3: 5, 5: 8, 10: 9, 4: 2},\n",
       "  {11: 6, 12: 3, 14: 8, 16: 9, 19: 2, 98: 40},\n",
       "  {},\n",
       "  {},\n",
       "  True]]"
      ]
     },
     "execution_count": 390,
     "metadata": {},
     "output_type": "execute_result"
    }
   ],
   "source": [
    "# Normal matching - Limit, balance filled at price\n",
    "\n",
    "[buy_order1,sell_order1,summ(orderLBmt),pro_order(buy_order1,sell_order1,orderLBmt,'NM'),\n",
    " buy_order1,sell_order1,summ(orderLSmt),pro_order(buy_order1,sell_order1,orderLSmt,'NM')]"
   ]
  },
  {
   "cell_type": "code",
   "execution_count": 391,
   "metadata": {},
   "outputs": [
    {
     "data": {
      "image/png": "[encoded data removed]",
      "text/plain": [
       "<Figure size 432x288 with 1 Axes>"
      ]
     },
     "metadata": {
      "needs_background": "light"
     },
     "output_type": "display_data"
    }
   ],
   "source": [
    "plot_order(buy_order1, sell_order1)"
   ]
  },
  {
   "cell_type": "code",
   "execution_count": 392,
   "metadata": {},
   "outputs": [
    {
     "data": {
      "text/plain": [
       "[{1: 6, 3: 5, 5: 8, 10: 9, 4: 2},\n",
       " {11: 6, 12: 3, 14: 8, 16: 9, 19: 2},\n",
       " ['M', 'B', {0: 65}],\n",
       " [{1: 6, 3: 5, 5: 8, 10: 9, 4: 2},\n",
       "  {},\n",
       "  {11: 6, 12: 3, 14: 8, 16: 9, 19: 2},\n",
       "  {'Date': '2018-03-01',\n",
       "   'OrderID': 1,\n",
       "   'OrderCharacteristic': 1,\n",
       "   'Direction': 'B',\n",
       "   'OrderType': 'M',\n",
       "   'Price': 0,\n",
       "   'Quantity': 37,\n",
       "   'Trader': 1},\n",
       "  False],\n",
       " {1: 6, 3: 5, 5: 8, 10: 9, 4: 2},\n",
       " {11: 6, 12: 3, 14: 8, 16: 9, 19: 2},\n",
       " ['M', 'S', {0: 65}],\n",
       " [{},\n",
       "  {11: 6, 12: 3, 14: 8, 16: 9, 19: 2},\n",
       "  {1: 6, 3: 5, 5: 8, 10: 9, 4: 2},\n",
       "  {'Date': '2018-03-01',\n",
       "   'OrderID': 1,\n",
       "   'OrderCharacteristic': 1,\n",
       "   'Direction': 'S',\n",
       "   'OrderType': 'M',\n",
       "   'Price': 0,\n",
       "   'Quantity': 35,\n",
       "   'Trader': 1},\n",
       "  False]]"
      ]
     },
     "execution_count": 392,
     "metadata": {},
     "output_type": "execute_result"
    }
   ],
   "source": [
    "# Normal matching - Market, amount filled\n",
    "\n",
    "[buy_order1,sell_order1,summ(orderMB),pro_order(buy_order1,sell_order1,orderMB,'NM'),\n",
    " buy_order1,sell_order1,summ(orderMS),pro_order(buy_order1,sell_order1,orderMS,'NM')]"
   ]
  },
  {
   "cell_type": "code",
   "execution_count": 393,
   "metadata": {},
   "outputs": [
    {
     "data": {
      "text/plain": [
       "[{1: 6, 3: 5, 5: 8, 10: 9, 4: 2},\n",
       " {11: 6, 12: 3, 14: 8, 16: 9, 19: 2},\n",
       " ['M', 'B', {0: 120}],\n",
       " [{1: 6, 3: 5, 5: 8, 10: 9, 4: 2},\n",
       "  {},\n",
       "  {11: 6, 12: 3, 14: 8, 16: 9, 19: 2},\n",
       "  {'Date': '2018-03-01',\n",
       "   'OrderID': 1,\n",
       "   'OrderCharacteristic': 1,\n",
       "   'Direction': 'B',\n",
       "   'OrderType': 'M',\n",
       "   'Price': 0,\n",
       "   'Quantity': 92,\n",
       "   'Trader': 1},\n",
       "  False],\n",
       " {1: 6, 3: 5, 5: 8, 10: 9, 4: 2},\n",
       " {11: 6, 12: 3, 14: 8, 16: 9, 19: 2},\n",
       " ['M', 'S', {0: 120}],\n",
       " [{},\n",
       "  {11: 6, 12: 3, 14: 8, 16: 9, 19: 2},\n",
       "  {1: 6, 3: 5, 5: 8, 10: 9, 4: 2},\n",
       "  {'Date': '2018-03-01',\n",
       "   'OrderID': 1,\n",
       "   'OrderCharacteristic': 1,\n",
       "   'Direction': 'S',\n",
       "   'OrderType': 'M',\n",
       "   'Price': 0,\n",
       "   'Quantity': 90,\n",
       "   'Trader': 1},\n",
       "  False]]"
      ]
     },
     "execution_count": 393,
     "metadata": {},
     "output_type": "execute_result"
    }
   ],
   "source": [
    "# Normal matching - Market, amount unfilled\n",
    "\n",
    "# Returns hanging trade and False\n",
    "\n",
    "[buy_order1,sell_order1,summ(orderMBt),pro_order(buy_order1,sell_order1,orderMBt,'NM'),\n",
    " buy_order1,sell_order1,summ(orderMSt),pro_order(buy_order1,sell_order1,orderMSt,'NM')]"
   ]
  },
  {
   "cell_type": "code",
   "execution_count": 396,
   "metadata": {},
   "outputs": [
    {
     "data": {
      "text/plain": [
       "[{1: 6, 3: 5, 5: 8, 10: 9, 4: 2},\n",
       " {11: 6, 12: 3, 14: 8, 16: 9, 19: 2},\n",
       " ['C', 'B', {98: 35}],\n",
       " [{1: 6, 3: 5, 5: 8, 10: 9, 4: 2},\n",
       "  {11: 6, 12: 3, 14: 8, 16: 9, 19: 2},\n",
       "  {},\n",
       "  {'Date': '2018-03-01',\n",
       "   'OrderID': 1,\n",
       "   'OrderCharacteristic': 1,\n",
       "   'Direction': 'B',\n",
       "   'OrderType': 'C',\n",
       "   'Price': 98,\n",
       "   'Quantity': 35,\n",
       "   'Trader': 1},\n",
       "  False],\n",
       " {1: 6, 3: 5, 5: 8, 10: 9, 4: 2},\n",
       " {11: 6, 12: 3, 14: 8, 16: 9, 19: 2},\n",
       " ['C', 'S', {103: 35}],\n",
       " [{1: 6, 3: 5, 5: 8, 10: 9, 4: 2},\n",
       "  {11: 6, 12: 3, 14: 8, 16: 9, 19: 2},\n",
       "  {},\n",
       "  {'Date': '2018-03-01',\n",
       "   'OrderID': 1,\n",
       "   'OrderCharacteristic': 1,\n",
       "   'Direction': 'S',\n",
       "   'OrderType': 'C',\n",
       "   'Price': 103,\n",
       "   'Quantity': 35,\n",
       "   'Trader': 1},\n",
       "  False]]"
      ]
     },
     "execution_count": 396,
     "metadata": {},
     "output_type": "execute_result"
    }
   ],
   "source": [
    "# Normal matching - Cancel, amount cancelled\n",
    "\n",
    "[buy_order1,sell_order1,summ(orderCBT),pro_order(buy_order1,sell_order1,orderCBT,'NM'),\n",
    " buy_order1,sell_order1,summ(orderCST),pro_order(buy_order1,sell_order1,orderCST,'NM')]"
   ]
  },
  {
   "cell_type": "code",
   "execution_count": 401,
   "metadata": {},
   "outputs": [
    {
     "data": {
      "text/plain": [
       "[{1: 6, 3: 5, 5: 8, 10: 9, 4: 2},\n",
       " {11: 6, 12: 3, 14: 8, 16: 9, 19: 2},\n",
       " ['C', 'B', {99: 35}],\n",
       " [{1: 6, 3: 5, 5: 8, 10: 9, 4: 2},\n",
       "  {11: 6, 12: 3, 14: 8, 16: 9, 19: 2},\n",
       "  {},\n",
       "  {'Date': '2018-03-01',\n",
       "   'OrderID': 1,\n",
       "   'OrderCharacteristic': 1,\n",
       "   'Direction': 'B',\n",
       "   'OrderType': 'C',\n",
       "   'Price': 99,\n",
       "   'Quantity': 35,\n",
       "   'Trader': 1},\n",
       "  False],\n",
       " {1: 6, 3: 5, 5: 8, 10: 9, 4: 2},\n",
       " {11: 6, 12: 3, 14: 8, 16: 9, 19: 2},\n",
       " ['C', 'S', {102: 35}],\n",
       " [{1: 6, 3: 5, 5: 8, 10: 9, 4: 2},\n",
       "  {11: 6, 12: 3, 14: 8, 16: 9, 19: 2},\n",
       "  {},\n",
       "  {'Date': '2018-03-01',\n",
       "   'OrderID': 1,\n",
       "   'OrderCharacteristic': 1,\n",
       "   'Direction': 'S',\n",
       "   'OrderType': 'C',\n",
       "   'Price': 102,\n",
       "   'Quantity': 35,\n",
       "   'Trader': 1},\n",
       "  False]]"
      ]
     },
     "execution_count": 401,
     "metadata": {},
     "output_type": "execute_result"
    }
   ],
   "source": [
    "# Normal matching - Cancel, amount greater than available\n",
    "\n",
    "# Returns the stop order and False\n",
    "\n",
    "[buy_order1,sell_order1,summ(orderCBF1),pro_order(buy_order1,sell_order1,orderCBF1,'NM'),\n",
    " buy_order1,sell_order1,summ(orderCST1),pro_order(buy_order1,sell_order1,orderCST1,'NM')]"
   ]
  },
  {
   "cell_type": "code",
   "execution_count": 403,
   "metadata": {},
   "outputs": [
    {
     "data": {
      "text/plain": [
       "[{1: 6, 3: 5, 5: 8, 10: 9, 4: 2},\n",
       " {11: 6, 12: 3, 14: 8, 16: 9, 19: 2},\n",
       " ['C', 'B', {90: 35}],\n",
       " [{1: 6, 3: 5, 5: 8, 10: 9, 4: 2},\n",
       "  {11: 6, 12: 3, 14: 8, 16: 9, 19: 2},\n",
       "  {},\n",
       "  {'Date': '2018-03-01',\n",
       "   'OrderID': 1,\n",
       "   'OrderCharacteristic': 1,\n",
       "   'Direction': 'B',\n",
       "   'OrderType': 'C',\n",
       "   'Price': 90,\n",
       "   'Quantity': 35,\n",
       "   'Trader': 1},\n",
       "  False],\n",
       " {1: 6, 3: 5, 5: 8, 10: 9, 4: 2},\n",
       " {11: 6, 12: 3, 14: 8, 16: 9, 19: 2},\n",
       " ['C', 'S', {110: 35}],\n",
       " [{1: 6, 3: 5, 5: 8, 10: 9, 4: 2},\n",
       "  {11: 6, 12: 3, 14: 8, 16: 9, 19: 2},\n",
       "  {},\n",
       "  {'Date': '2018-03-01',\n",
       "   'OrderID': 1,\n",
       "   'OrderCharacteristic': 1,\n",
       "   'Direction': 'S',\n",
       "   'OrderType': 'C',\n",
       "   'Price': 110,\n",
       "   'Quantity': 35,\n",
       "   'Trader': 1},\n",
       "  False]]"
      ]
     },
     "execution_count": 403,
     "metadata": {},
     "output_type": "execute_result"
    }
   ],
   "source": [
    "# Normal matching - Cancel, no amount at price\n",
    "\n",
    "# Returns the cancel order and False\n",
    "\n",
    "[buy_order1,sell_order1,summ(orderCBF2),pro_order(buy_order1,sell_order1,orderCBF2,'NM'),\n",
    " buy_order1,sell_order1,summ(orderCST2),pro_order(buy_order1,sell_order1,orderCST2,'NM')]"
   ]
  },
  {
   "cell_type": "code",
   "execution_count": null,
   "metadata": {},
   "outputs": [],
   "source": []
  }
 ],
 "metadata": {
  "kernelspec": {
   "display_name": "Python 3",
   "language": "python",
   "name": "python3"
  },
  "language_info": {
   "codemirror_mode": {
    "name": "ipython",
    "version": 3
   },
   "file_extension": ".py",
   "mimetype": "text/x-python",
   "name": "python",
   "nbconvert_exporter": "python",
   "pygments_lexer": "ipython3",
   "version": "3.7.3"
  }
 },
 "nbformat": 4,
 "nbformat_minor": 2
}
